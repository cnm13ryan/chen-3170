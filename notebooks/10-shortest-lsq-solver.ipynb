{
 "cells": [
  {
   "cell_type": "markdown",
   "metadata": {},
   "source": [
    "ChEn-3170: Computational Methods in Chemical Engineering Spring 2024 UMass Lowell; Prof. V. F. de Almeida **25Mar24**\n",
    "\n",
    "# 10. Shortest Least-Squares Solver\n",
    "$  \n",
    "  \\newcommand{\\Amtrx}{\\boldsymbol{\\mathsf{A}}}\n",
    "  \\newcommand{\\Bmtrx}{\\boldsymbol{\\mathsf{B}}}\n",
    "  \\newcommand{\\Mmtrx}{\\boldsymbol{\\mathsf{M}}}\n",
    "  \\newcommand{\\Imtrx}{\\boldsymbol{\\mathsf{I}}}\n",
    "  \\newcommand{\\Pmtrx}{\\boldsymbol{\\mathsf{P}}}\n",
    "  \\newcommand{\\Lmtrx}{\\boldsymbol{\\mathsf{L}}}\n",
    "  \\newcommand{\\Umtrx}{\\boldsymbol{\\mathsf{U}}}\n",
    "  \\newcommand{\\Smtrx}{\\boldsymbol{\\mathsf{S}}}\n",
    "  \\newcommand{\\xvec}{\\boldsymbol{\\mathsf{x}}}\n",
    "  \\newcommand{\\yvec}{\\boldsymbol{\\mathsf{y}}}\n",
    "  \\newcommand{\\avec}{\\boldsymbol{\\mathsf{a}}}\n",
    "  \\newcommand{\\bvec}{\\boldsymbol{\\mathsf{b}}}\n",
    "  \\newcommand{\\cvec}{\\boldsymbol{\\mathsf{c}}}\n",
    "  \\newcommand{\\rvec}{\\boldsymbol{\\mathsf{r}}}\n",
    "  \\newcommand{\\mvec}{\\boldsymbol{\\mathsf{m}}}\n",
    "  \\newcommand{\\gvec}{\\boldsymbol{\\mathsf{g}}}\n",
    "  \\newcommand{\\zerovec}{\\boldsymbol{\\mathsf{0}}}\n",
    "  \\newcommand{\\norm}[1]{\\bigl\\lVert{#1}\\bigr\\rVert}\n",
    "  \\newcommand{\\transpose}[1]{{#1}^\\top}\n",
    "  \\DeclareMathOperator{\\rank}{rank}\n",
    "$"
   ]
  },
  {
   "cell_type": "markdown",
   "metadata": {},
   "source": [
    "---\n",
    "## Table of Contents<a id=\"toc\">\n",
    "* [Introduction](#intro)\n",
    "* [Any Linear System (Detailed Algorithm)](#any)\n",
    "* [Shortest LSQ Solver](#usolver)\n",
    "* [Anomalous Least-Squares Data Fitting](#fit)\n",
    "---"
   ]
  },
  {
   "cell_type": "markdown",
   "metadata": {},
   "source": [
    "## [Introduction](#toc)<a id=\"intro\"></a>\n",
    "\n",
    "Recall course notes OneNote [ChEn-3170-shortest-lsq-solver](https://studentuml-my.sharepoint.com/:o:/g/personal/valmor_dealmeida_uml_edu/EgTyfAiTr59Dk3yAb3eCZEcBeJZj2oWviJeXKpeRIB2YOg?e=aTnFnR) on computational stoichiometry including an introduction to the linear, rank-deficient, least-squares method.\n",
    "\n",
    "Compute the solution vector $\\xvec$ for a given matrix $\\Amtrx$ and right-side vector $\\bvec$:\n",
    "\n",
    "\\begin{equation*}\n",
    "\\Amtrx\\,\\xvec= \\bvec .\n",
    "\\end{equation*}\n",
    "\n",
    "When $\\Amtrx$ is rank deficient, $\\Amtrx^\\top\\Amtrx$ is also rank deficient (or singular). The normal equations \n",
    "\n",
    "\\begin{equation*}\n",
    "\\boxed{\\Amtrx^\\top\\Amtrx\\,\\xvec_\\text{LS}  = \\Amtrx^\\top\\,\\bvec },\n",
    "\\end{equation*}\n",
    "\n",
    "*either have an infinite number of solutions or have no solution*. \n",
    "\n",
    "Since $\\Amtrx$ is rank deficient, a **unique** mininum-norm least squares solution, $\\xvec_\\text{MNLS}$, exists as follows,\n",
    "\n",
    "\\begin{equation*}\n",
    " \\lim\\limits_{\\epsilon\\rightarrow 0}\\,\\min\\limits_\\xvec \\bigl( \\norm{\\bvec - \\Amtrx\\,\\xvec_\\text{MNLS}}^2 + \\epsilon\\norm{\\xvec_\\text{MNLS}}^2 \\bigr) \\quad\\  \\forall \\quad\\ \\xvec.\n",
    "\\end{equation*}\n",
    "\n",
    "This solution is obtained by solving:\n",
    "\n",
    "\\begin{equation*}\n",
    "\\boxed{\n",
    "\\lim\\limits_{\\epsilon\\rightarrow 0}\\,\\bigl(\\Amtrx^\\top\\Amtrx + \\epsilon\\Imtrx\\bigr) \\xvec_\\text{MNLS}  = \\Amtrx^\\top\\,\\bvec },\n",
    "\\end{equation*}\n",
    "\n",
    "where $\\Amtrx^\\top\\Amtrx + \\epsilon\\Imtrx$ is square, symmetric and full rank. This augmented least-squares problem has a unique solution."
   ]
  },
  {
   "cell_type": "markdown",
   "metadata": {},
   "source": [
    "## [Any Linear System (Detailed Algorithm)](#toc)<a id=\"any\"></a>\n",
    "Refer to course Notebooks 08 and 09."
   ]
  },
  {
   "cell_type": "code",
   "execution_count": 1,
   "metadata": {
    "ExecuteTime": {
     "end_time": "2022-03-22T16:21:07.587955Z",
     "start_time": "2022-03-22T16:21:07.033127Z"
    }
   },
   "outputs": [
    {
     "name": "stdout",
     "output_type": "stream",
     "text": [
      "A =\n",
      " [[ 41.628  59.943   5.106  59.885 ...  87.197  66.36  -11.601  10.969]\n",
      " [ 44.61   19.85   45.113  18.721 ...  25.87   32.724 -11.451 -11.876]\n",
      " [ 46.082  78.36   19.161  69.782 ...  19.053  16.123  -6.226  71.305]\n",
      " [ 71.773   5.262   4.671  -5.324 ...  41.526  71.652 -12.172  84.206]\n",
      " ...\n",
      " [  0.      0.      0.      0.    ...   0.      0.      0.      0.   ]\n",
      " [  0.      0.      0.      0.    ...   0.      0.      0.      0.   ]\n",
      " [  0.      0.      0.      0.    ...   0.      0.      0.      0.   ]\n",
      " [  0.      0.      0.      0.    ...   0.      0.      0.      0.   ]]\n"
     ]
    }
   ],
   "source": [
    "'''Any A matrix'''\n",
    "\n",
    "import numpy as np\n",
    "\n",
    "nrows = 20\n",
    "ncols = 32\n",
    "\n",
    "a = -12.2\n",
    "b =  88.7\n",
    "\n",
    "set_rank_deficient = True # set to True or False\n",
    "\n",
    "a_mtrx = (b-a)*np.random.random((nrows,ncols)) + a\n",
    "\n",
    "if set_rank_deficient:\n",
    "    if nrows >= ncols:\n",
    "        a_mtrx[:,-8:] = 0.0\n",
    "    if nrows < ncols:\n",
    "        a_mtrx[-8:,:] = 0.0\n",
    "        \n",
    "np.set_printoptions(precision=3, threshold=500, edgeitems=4, linewidth=100)\n",
    "print('A =\\n',a_mtrx)"
   ]
  },
  {
   "cell_type": "code",
   "execution_count": 2,
   "metadata": {
    "ExecuteTime": {
     "end_time": "2022-03-22T16:21:12.460596Z",
     "start_time": "2022-03-22T16:21:11.843620Z"
    }
   },
   "outputs": [
    {
     "name": "stdout",
     "output_type": "stream",
     "text": [
      "S shape   =  (20, 32)\n",
      "Rank of S =  12\n",
      "Matrix is rank deficient.\n"
     ]
    }
   ],
   "source": [
    "'''Rank of A'''\n",
    "\n",
    "try:    \n",
    "    from chen_3170.toolkit import matrix_rank   \n",
    "except ModuleNotFoundError:\n",
    "    assert False, 'You need to provide your own matrix_rank function here. Bailing out.'\n",
    "\n",
    "a_rank = matrix_rank(a_mtrx)\n",
    "print('S shape   = ',a_mtrx.shape)\n",
    "print('Rank of S = ',a_rank)\n",
    "\n",
    "if a_rank == min(a_mtrx.shape):\n",
    "    print('Matrix is full rank.')\n",
    "else:\n",
    "    print('Matrix is rank deficient.')\n",
    "    \n",
    "assert a_rank == np.linalg.matrix_rank(a_mtrx)"
   ]
  },
  {
   "cell_type": "code",
   "execution_count": 3,
   "metadata": {
    "ExecuteTime": {
     "end_time": "2022-03-22T16:21:21.685613Z",
     "start_time": "2022-03-22T16:21:21.679354Z"
    }
   },
   "outputs": [
    {
     "name": "stdout",
     "output_type": "stream",
     "text": [
      "b_vec =\n",
      " [-32.301 -39.14  -30.647  -8.97  -11.843 -36.313 -40.111  -6.201 -15.732  -1.646 -21.401 -37.935\n",
      " -16.805   1.475 -38.044  -1.287  -2.132  -9.964 -20.77  -18.03 ]\n"
     ]
    }
   ],
   "source": [
    "'''Any right side vector'''\n",
    "\n",
    "import numpy as np\n",
    "\n",
    "a = -40.2\n",
    "b =  3.7\n",
    "\n",
    "b_vec = (b-a)*np.random.random(nrows) + a # production rates\n",
    "\n",
    "np.set_printoptions(precision=3, threshold=100, edgeitems=3, linewidth=100)\n",
    "print('b_vec =\\n',b_vec)"
   ]
  },
  {
   "cell_type": "code",
   "execution_count": 4,
   "metadata": {
    "ExecuteTime": {
     "end_time": "2022-03-22T16:22:00.613647Z",
     "start_time": "2022-03-22T16:22:00.527932Z"
    },
    "scrolled": false
   },
   "outputs": [
    {
     "name": "stdout",
     "output_type": "stream",
     "text": [
      "\n",
      "epsilon = 1.0e+02\n",
      "\n",
      "||x|| = 2.80968e-01\n",
      "max(abs(x_vec-x_vec_numpy)) = 3.10e-14\n",
      "\n",
      "||b - A x||^2 + eps*||x||^2 = 2.60182e+03\n",
      "||(ATA-epsI)x - ATb||       = 9.04936e-12\n",
      "||b - A x|| +       ||x||   = 5.12116e+01\n",
      "||b - A x||                 = 5.09306e+01\n",
      "\n",
      "epsilon = 1.0e+00\n",
      "\n",
      "||x|| = 2.82057e-01\n",
      "max(abs(x_vec-x_vec_numpy)) = 1.97e-12\n",
      "\n",
      "||b - A x||^2 + eps*||x||^2 = 2.59398e+03\n",
      "||(ATA-epsI)x - ATb||       = 8.62822e-12\n",
      "||b - A x|| +       ||x||   = 5.12124e+01\n",
      "||b - A x||                 = 5.09303e+01\n",
      "\n",
      "epsilon = 1.0e-02\n",
      "\n",
      "||x|| = 2.82068e-01\n",
      "max(abs(x_vec-x_vec_numpy)) = 5.42e-10\n",
      "\n",
      "||b - A x||^2 + eps*||x||^2 = 2.59390e+03\n",
      "||(ATA-epsI)x - ATb||       = 1.31169e-11\n",
      "||b - A x|| +       ||x||   = 5.12124e+01\n",
      "||b - A x||                 = 5.09303e+01\n",
      "\n",
      "epsilon = 1.0e-04\n",
      "\n",
      "||x|| = 2.82068e-01\n",
      "max(abs(x_vec-x_vec_numpy)) = 3.13e-08\n",
      "\n",
      "||b - A x||^2 + eps*||x||^2 = 2.59390e+03\n",
      "||(ATA-epsI)x - ATb||       = 1.30537e-11\n",
      "||b - A x|| +       ||x||   = 5.12124e+01\n",
      "||b - A x||                 = 5.09303e+01\n",
      "\n",
      "epsilon = 1.0e-06\n",
      "\n",
      "||x|| = 2.82068e-01\n",
      "max(abs(x_vec-x_vec_numpy)) = 3.83e-06\n",
      "\n",
      "||b - A x||^2 + eps*||x||^2 = 2.59390e+03\n",
      "||(ATA-epsI)x - ATb||       = 1.95700e-11\n",
      "||b - A x|| +       ||x||   = 5.12124e+01\n",
      "||b - A x||                 = 5.09303e+01\n"
     ]
    }
   ],
   "source": [
    "'''Compute the MNLS solution'''\n",
    "\n",
    "import numpy as np\n",
    "\n",
    "try:    \n",
    "    from chen_3170.toolkit import solve   \n",
    "except ModuleNotFoundError:\n",
    "    assert False, 'You need to provide your own lu_factorization function here. Bailing out.'\n",
    "\n",
    "# build and solve A x = b MNLS problem\n",
    "\n",
    "epsilon_values = np.logspace(+2,-6,5)\n",
    "\n",
    "np.set_printoptions(precision=3, threshold=100, edgeitems=3, linewidth=100)\n",
    "\n",
    "x_norm_history = list()\n",
    "    \n",
    "for epsilon in epsilon_values:\n",
    "    \n",
    "    print('')\n",
    "    print('epsilon = %1.1e'%epsilon)\n",
    "    print('')\n",
    "\n",
    "    mtrx = a_mtrx.transpose() @ a_mtrx + epsilon * np.eye(a_mtrx.shape[1]) # AT A + epsilon I, AT A is the normal matrix\n",
    "    vec  = a_mtrx.transpose() @ b_vec                            # AT b\n",
    "\n",
    "    # Solve (ATA + epsilon I) x = AT b\n",
    "    x_vec = solve(mtrx, vec, pivot_tol=epsilon_values[-1], zero_tol=1e-9) # matrix is full rank\n",
    "    #x_vec = np.linalg.solve(mtrx, vec) # if my solver does not work\n",
    "        \n",
    "    x_norm = np.linalg.norm(x_vec)\n",
    "    print('||x|| = %8.5e'%x_norm)\n",
    "    \n",
    "    x_norm_history.append(x_norm) # save for plotting\n",
    "    \n",
    "    # test my solution against NumPy solve\n",
    "    print('max(abs(x_vec-x_vec_numpy)) = %2.2e'%np.max(np.abs((x_vec - np.linalg.solve(mtrx, vec)))))\n",
    "    \n",
    "    print('')\n",
    "    residual_vec = b_vec - a_mtrx @ x_vec\n",
    "    print('||b - A x||^2 + eps*||x||^2 = %8.5e'%(np.linalg.norm(residual_vec)**2 + epsilon*x_norm**2))\n",
    "    print('||(ATA-epsI)x - ATb||       = %8.5e'%(np.linalg.norm(mtrx@x_vec-a_mtrx.transpose()@b_vec)))\n",
    "    print('||b - A x|| +       ||x||   = %8.5e'%(np.linalg.norm(residual_vec) + x_norm))\n",
    "    print('||b - A x||                 = %8.5e'%(np.linalg.norm(residual_vec)))"
   ]
  },
  {
   "cell_type": "code",
   "execution_count": 5,
   "metadata": {
    "ExecuteTime": {
     "end_time": "2022-03-22T16:22:07.080694Z",
     "start_time": "2022-03-22T16:22:06.733754Z"
    }
   },
   "outputs": [
    {
     "data": {
      "image/png": "[encoded data removed]",
      "text/plain": [
       "<Figure size 1800x500 with 1 Axes>"
      ]
     },
     "metadata": {},
     "output_type": "display_data"
    }
   ],
   "source": [
    "'''Plot Convergence of the Shortest Least-Square Solution Vector'''\n",
    "\n",
    "from matplotlib import pyplot as plt # import the pyplot function of the matplotlib package\n",
    "#%matplotlib inline\n",
    "#plt.style.use('dark_background')\n",
    "\n",
    "fig, ax = plt.subplots(figsize=(18,5))\n",
    "ax.semilogx(epsilon_values, x_norm_history,'ro--')\n",
    "ax.set_ylabel('MNLS Solution Norm',fontsize=16)\n",
    "ax.set_xlabel('Epsilon',fontsize=16)\n",
    "plt.xticks(fontsize=14)\n",
    "plt.yticks(fontsize=14)\n",
    "fig.suptitle('Convergence of Minimum Norm LS Solution (Rank %s)'%str(a_rank),fontsize=20)\n",
    "ax.xaxis.grid(True,linestyle='-',which='major',color='lightgrey',alpha=0.9)\n",
    "plt.show()"
   ]
  },
  {
   "cell_type": "markdown",
   "metadata": {},
   "source": [
    "**NB:** Note that the associated rank-deficient $\\Amtrx\\xvec=\\bvec$ has not solution. The computed $\\xvec$ is the shortest LS solution of the modified (*regularized*) LS problem."
   ]
  },
  {
   "cell_type": "code",
   "execution_count": 6,
   "metadata": {},
   "outputs": [
    {
     "name": "stdout",
     "output_type": "stream",
     "text": [
      "||AT(b - A x)|| = 2.82076e-07\n"
     ]
    }
   ],
   "source": [
    "print('||AT(b - A x)|| = %8.5e'%(np.linalg.norm(a_mtrx.transpose()@residual_vec)))"
   ]
  },
  {
   "cell_type": "markdown",
   "metadata": {},
   "source": [
    "**NB:** For example take a non-zero vector, $\\yvec$, from the null space of $\\Amtrx$, *i.e.* $\\Amtrx\\yvec=\\zerovec$. $\\yvec$ will be perpendicular to $\\xvec$."
   ]
  },
  {
   "cell_type": "code",
   "execution_count": 7,
   "metadata": {},
   "outputs": [
    {
     "name": "stdout",
     "output_type": "stream",
     "text": [
      "||y||        = 4.80678e+00\n",
      "||A y)||     = 2.44172e-13\n",
      "||b - A y)|| = 1.06970e+02\n",
      "y . x        = -8.34402e-06\n"
     ]
    }
   ],
   "source": [
    "y0_vec = np.random.random(a_mtrx.shape[1])\n",
    "y_vec = solve(a_mtrx, b_vec*0, y0_vec, zero_tol=1e-10)\n",
    "print('||y||        = %8.5e'%(np.linalg.norm(y_vec)))\n",
    "print('||A y)||     = %8.5e'%(np.linalg.norm(a_mtrx@y_vec)))\n",
    "print('||b - A y)|| = %8.5e'%(np.linalg.norm((b_vec-a_mtrx@y_vec))))\n",
    "print('y . x        = %8.5e'%(np.dot(y_vec, x_vec)))"
   ]
  },
  {
   "cell_type": "markdown",
   "metadata": {},
   "source": [
    "**NB:** More trials."
   ]
  },
  {
   "cell_type": "code",
   "execution_count": 8,
   "metadata": {},
   "outputs": [
    {
     "name": "stdout",
     "output_type": "stream",
     "text": [
      "||y||       = 7.44222e-01\n",
      "||b - A y|| = 1.06970e+02\n",
      "y . x       = 2.37654e-06\n",
      "\n",
      "||y||       = 1.09263e+00\n",
      "||b - A y|| = 1.06970e+02\n",
      "y . x       = 1.06284e-06\n",
      "\n",
      "||y||       = 8.18157e-01\n",
      "||b - A y|| = 1.06970e+02\n",
      "y . x       = -1.04815e-07\n",
      "\n",
      "||y||       = 8.16737e-01\n",
      "||b - A y|| = 1.06970e+02\n",
      "y . x       = 1.28304e-07\n",
      "\n",
      "||y||       = 7.25827e-01\n",
      "||b - A y|| = 1.06970e+02\n",
      "y . x       = -1.97248e-06\n",
      "\n",
      "||y||       = 9.14132e-01\n",
      "||b - A y|| = 1.06970e+02\n",
      "y . x       = -2.29115e-07\n",
      "\n",
      "||y||       = 1.16102e+00\n",
      "||b - A y|| = 1.06970e+02\n",
      "y . x       = -2.51121e-07\n",
      "\n",
      "||y||       = 1.06700e+00\n",
      "||b - A y|| = 1.06970e+02\n",
      "y . x       = -7.15327e-07\n",
      "\n",
      "||y||       = 9.77309e-01\n",
      "||b - A y|| = 1.06970e+02\n",
      "y . x       = 8.44439e-07\n",
      "\n",
      "||y||       = 9.67392e-01\n",
      "||b - A y|| = 1.06970e+02\n",
      "y . x       = 4.06942e-06\n",
      "\n"
     ]
    }
   ],
   "source": [
    "a = 2*x_vec.min()\n",
    "b = 2*x_vec.max()\n",
    "\n",
    "for i in range(10):\n",
    "    y0_vec = (b-a)*np.random.random(ncols) + a\n",
    "    y_vec = solve(a_mtrx, b_vec*0, y0_vec, zero_tol=1e-10)\n",
    "    print('||y||       = %8.5e'%(np.linalg.norm(y_vec)))\n",
    "    print('||b - A y|| = %8.5e'%(np.linalg.norm((b_vec-a_mtrx@y_vec))))\n",
    "    print('y . x       = %8.5e'%(np.dot(y_vec, x_vec)))\n",
    "    print('')"
   ]
  },
  {
   "cell_type": "code",
   "execution_count": 9,
   "metadata": {
    "ExecuteTime": {
     "end_time": "2022-03-22T16:22:41.430433Z",
     "start_time": "2022-03-22T16:22:41.248403Z"
    }
   },
   "outputs": [
    {
     "data": {
      "image/png": "[encoded data removed]",
      "text/plain": [
       "<Figure size 2000x600 with 1 Axes>"
      ]
     },
     "metadata": {},
     "output_type": "display_data"
    }
   ],
   "source": [
    "'''Minimum-norm least-squares solution'''\n",
    "\n",
    "from matplotlib import pyplot as plt # import the pyplot function of the matplotlib package\n",
    "#%matplotlib inline\n",
    "#plt.style.use('dark_background')\n",
    "\n",
    "fig, ax = plt.subplots(figsize=(20,6))\n",
    "ax.bar(range(x_vec.size), x_vec, color='orange')\n",
    "\n",
    "ax.set_ylabel('X vector',fontsize=16)\n",
    "ax.set_xlabel('X vector element',fontsize=16)\n",
    "ax.xaxis.grid(True,linestyle='-',which='major',color='lightgrey',alpha=0.9)\n",
    "fig.suptitle('Minimum Norm LS Solution (Rank %s)'%str(a_rank),fontsize=20)\n",
    "plt.show()"
   ]
  },
  {
   "cell_type": "markdown",
   "metadata": {},
   "source": [
    "## [Shortest LSQ Solver](#toc)<a id=\"usolver\"></a>"
   ]
  },
  {
   "cell_type": "markdown",
   "metadata": {},
   "source": [
    "Compute the solution vector $\\xvec$, given $\\Amtrx$ and $\\bvec$:\n",
    "\n",
    "\\begin{equation*}\n",
    "\\Amtrx\\,\\xvec= \\bvec .\n",
    "\\end{equation*}"
   ]
  },
  {
   "cell_type": "code",
   "execution_count": 10,
   "metadata": {},
   "outputs": [
    {
     "name": "stdout",
     "output_type": "stream",
     "text": [
      "A =\n",
      " [[ 0.866  0.504 -0.102  0.24  ...  0.506 -0.115  0.497 -0.11 ]\n",
      " [ 0.662  0.993 -0.081  0.69  ...  0.05   0.128  0.17   0.169]\n",
      " [-0.114 -0.043  0.277  0.604 ...  0.728  0.855 -0.139  0.016]\n",
      " [ 0.161  0.76   0.968 -0.082 ...  0.912  0.98   0.251  0.976]\n",
      " ...\n",
      " [ 0.38  -0.012  0.187  0.658 ...  0.456  0.161  0.685  0.751]\n",
      " [ 0.396  0.07   0.283  0.7   ...  0.908  0.835  0.726  0.464]\n",
      " [ 0.784 -0.039  0.227  0.643 ...  0.003  0.962  0.713 -0.099]\n",
      " [ 0.     0.     0.     0.    ...  0.     0.     0.     0.   ]]\n"
     ]
    }
   ],
   "source": [
    "'''Any A matrix'''\n",
    "\n",
    "import numpy as np\n",
    "\n",
    "nrows = 20\n",
    "ncols = 32\n",
    "\n",
    "a = -120.2\n",
    "b =  808.7\n",
    "\n",
    "set_rank_deficient = True # set to True or False\n",
    "\n",
    "a_mtrx = (b-a)*np.random.random((nrows,ncols)) + a\n",
    "a_mtrx /= a_mtrx.max()\n",
    "\n",
    "if set_rank_deficient:\n",
    "    if nrows >= ncols:\n",
    "        a_mtrx[:,-1] = 0.0\n",
    "    if nrows < ncols:\n",
    "        a_mtrx[-1,:] = 0.0\n",
    "        \n",
    "np.set_printoptions(precision=3, threshold=100, edgeitems=4, linewidth=100)\n",
    "print('A =\\n',a_mtrx)"
   ]
  },
  {
   "cell_type": "code",
   "execution_count": 11,
   "metadata": {},
   "outputs": [
    {
     "name": "stdout",
     "output_type": "stream",
     "text": [
      "S shape   =  (20, 32)\n",
      "Rank of S =  19\n",
      "Matrix is rank deficient.\n"
     ]
    }
   ],
   "source": [
    "'''Rank of A'''\n",
    "\n",
    "try:    \n",
    "    from chen_3170.toolkit import matrix_rank   \n",
    "except ModuleNotFoundError:\n",
    "    assert False, 'You need to provide your own matrix_rank function here. Bailing out.'\n",
    "\n",
    "a_rank = matrix_rank(a_mtrx)\n",
    "print('S shape   = ',a_mtrx.shape)\n",
    "print('Rank of S = ',a_rank)\n",
    "\n",
    "if a_rank == min(a_mtrx.shape):\n",
    "    print('Matrix is full rank.')\n",
    "else:\n",
    "    print('Matrix is rank deficient.')\n",
    "    \n",
    "assert a_rank == np.linalg.matrix_rank(a_mtrx)"
   ]
  },
  {
   "cell_type": "code",
   "execution_count": 12,
   "metadata": {},
   "outputs": [
    {
     "name": "stdout",
     "output_type": "stream",
     "text": [
      "b_vec =\n",
      " [ -8.251  -1.773 -36.168 -19.516 -12.689 -18.054 -30.784  -3.738 -39.299 -12.88   -4.127 -13.824\n",
      "  -3.283 -32.468 -26.808 -28.296 -35.956 -34.816  -9.096 -16.262]\n"
     ]
    }
   ],
   "source": [
    "'''Any right side vector'''\n",
    "\n",
    "import numpy as np\n",
    "\n",
    "a = -40.2\n",
    "b =  3.7\n",
    "\n",
    "b_vec = (b-a)*np.random.random(nrows) + a # production rates\n",
    "\n",
    "np.set_printoptions(precision=3, threshold=100, edgeitems=3, linewidth=100)\n",
    "print('b_vec =\\n',b_vec)"
   ]
  },
  {
   "cell_type": "code",
   "execution_count": 13,
   "metadata": {
    "scrolled": false
   },
   "outputs": [
    {
     "name": "stdout",
     "output_type": "stream",
     "text": [
      "Magnitude of residual vector: ||b - Ax|| = 1.626e+01\n",
      "Magnitude of residual vector of the normal equations: ||AT(b - Ax)|| = 3.736e-07\n"
     ]
    }
   ],
   "source": [
    "import numpy as np\n",
    "\n",
    "try:    \n",
    "    from chen_3170.toolkit import shortest_least_squares_solve   \n",
    "except ModuleNotFoundError:\n",
    "    assert False, 'You need to provide your own lu_factorization function here. Bailing out.'\n",
    "\n",
    "x_vec = shortest_least_squares_solve(a_mtrx, b_vec, verbose=False, solver_verbose=False)\n",
    "\n",
    "print('Magnitude of residual vector: ||b - Ax|| = %3.3e'%np.linalg.norm(b_vec-a_mtrx@x_vec))\n",
    "print('Magnitude of residual vector of the normal equations: ||AT(b - Ax)|| = %3.3e'%np.linalg.norm(a_mtrx.transpose()@(b_vec-a_mtrx@x_vec)))"
   ]
  },
  {
   "cell_type": "code",
   "execution_count": 14,
   "metadata": {},
   "outputs": [
    {
     "data": {
      "image/png": "[encoded data removed]",
      "text/plain": [
       "<Figure size 2000x600 with 1 Axes>"
      ]
     },
     "metadata": {},
     "output_type": "display_data"
    }
   ],
   "source": [
    "'''Minimum norm least-squares solution'''\n",
    "\n",
    "from matplotlib import pyplot as plt # import the pyplot function of the matplotlib package\n",
    "#%matplotlib inline\n",
    "#plt.style.use('dark_background')\n",
    "\n",
    "fig, ax = plt.subplots(figsize=(20,6))\n",
    "ax.bar(range(x_vec.size), x_vec, color='orange')\n",
    "\n",
    "ax.set_ylabel('X vector',fontsize=16)\n",
    "ax.set_xlabel('X vector element',fontsize=16)\n",
    "ax.xaxis.grid(True,linestyle='-',which='major',color='lightgrey',alpha=0.9)\n",
    "fig.suptitle('Minimum Norm LS Solution (Rank %s)'%str(a_rank),fontsize=20)\n",
    "plt.show()"
   ]
  },
  {
   "cell_type": "markdown",
   "metadata": {},
   "source": [
    "## [Anomalous Linear Least-Squares Data Fitting](#toc)<a id=\"fit\"></a>\n",
    "\n",
    "Example of data fitting where the universal solver is the only way to find a satisfactory fit."
   ]
  },
  {
   "cell_type": "code",
   "execution_count": null,
   "metadata": {},
   "outputs": [],
   "source": [
    "import numpy as np\n",
    "\n",
    "m_pts = 7\n",
    "\n",
    "x_values = 1*np.ones(m_pts)\n",
    "y_values = 1.12 * abs(np.random.random(m_pts))\n",
    "\n",
    "a_mtrx = np.zeros((m_pts, 2))\n",
    "a_mtrx[:,0] = np.ones(m_pts)\n",
    "a_mtrx[:,1] = -x_values\n"
   ]
  },
  {
   "cell_type": "code",
   "execution_count": null,
   "metadata": {},
   "outputs": [],
   "source": [
    "import matplotlib.pyplot as plt\n",
    "%matplotlib inline\n",
    "plt.style.use('dark_background')\n",
    "    \n",
    "plt.figure(1, figsize=(7, 7))\n",
    "\n",
    "plt.plot(x_values, y_values, 'r*', label='experimental')\n",
    "    \n",
    "plt.xlabel(r'$x$ []',fontsize=14)\n",
    "plt.ylabel(r'$y$ []',fontsize=14)\n",
    "plt.xlim(min(x_values)-.1, max(x_values)+.1)\n",
    "plt.title('Some Arbitrary Data',fontsize=20)\n",
    "plt.legend(loc='best',fontsize=12)\n",
    "plt.grid(True)\n",
    "plt.show()"
   ]
  },
  {
   "cell_type": "code",
   "execution_count": null,
   "metadata": {},
   "outputs": [],
   "source": [
    "try:    \n",
    "    from chen_3170.toolkit import matrix_rank   \n",
    "except ModuleNotFoundError:\n",
    "    assert False, 'You need to provide your own lu_factorization function here. Bailing out.'\n",
    "\n",
    "rank = matrix_rank(a_mtrx)\n",
    "\n",
    "if rank == min(np.shape(a_mtrx)):\n",
    "    print('Full-rank matrix')\n",
    "else:\n",
    "    print('Rank-deficient matrix')\n",
    "print('matrix rank = ', rank)"
   ]
  },
  {
   "cell_type": "code",
   "execution_count": null,
   "metadata": {},
   "outputs": [],
   "source": [
    "try:    \n",
    "    from chen_3170.toolkit import shortest_least_squares_solve  \n",
    "except ModuleNotFoundError:\n",
    "    assert False, 'You need to provide your own lu_factorization function here. Bailing out.'\n",
    "    \n",
    "x_vec = shortest_least_squares_solve(a_mtrx, y_values)\n",
    "\n",
    "#this will not work: x_vec = solve(a_mtrx.transpose()@a_mtrx, a_mtrx.transpose()@y_values, pivot_tol=1e-7)"
   ]
  },
  {
   "cell_type": "code",
   "execution_count": null,
   "metadata": {},
   "outputs": [],
   "source": [
    "import matplotlib.pyplot as plt\n",
    "%matplotlib inline\n",
    "plt.style.use('dark_background')\n",
    "    \n",
    "plt.figure(1, figsize=(7, 7))\n",
    "\n",
    "n_plot_pts = 15\n",
    "x_plot = np.linspace(min(x_values)-.01, max(x_values)+.01, n_plot_pts)\n",
    "a_mtrx_x = np.ones((n_plot_pts, 2))\n",
    "a_mtrx_x[:,1]= -x_plot\n",
    "\n",
    "plt.plot(x_values, y_values,'r*',label='experimental')\n",
    "plt.plot(x_plot, a_mtrx_x@x_vec,'y*',label='MNLS')\n",
    "    \n",
    "plt.xlabel(r'$x$ []',fontsize=14)\n",
    "plt.xlim(min(x_values)-.01, max(x_values)+.01)\n",
    "plt.ylabel(r'$y$ []',fontsize=14)\n",
    "plt.title('Linear Least-Squared Approximation',fontsize=20)\n",
    "plt.legend(loc='best',fontsize=12)\n",
    "plt.grid(True)\n",
    "plt.show()"
   ]
  },
  {
   "cell_type": "code",
   "execution_count": null,
   "metadata": {},
   "outputs": [],
   "source": [
    "y_values"
   ]
  },
  {
   "cell_type": "code",
   "execution_count": null,
   "metadata": {},
   "outputs": [],
   "source": [
    "y_values.mean()"
   ]
  },
  {
   "cell_type": "code",
   "execution_count": null,
   "metadata": {},
   "outputs": [],
   "source": [
    "a_mtrx_x@x_vec"
   ]
  },
  {
   "cell_type": "code",
   "execution_count": null,
   "metadata": {},
   "outputs": [],
   "source": [
    "(a_mtrx_x@x_vec).mean()"
   ]
  },
  {
   "cell_type": "code",
   "execution_count": null,
   "metadata": {},
   "outputs": [],
   "source": []
  }
 ],
 "metadata": {
  "kernelspec": {
   "display_name": "Python 3 (ipykernel)",
   "language": "python",
   "name": "python3"
  },
  "language_info": {
   "codemirror_mode": {
    "name": "ipython",
    "version": 3
   },
   "file_extension": ".py",
   "mimetype": "text/x-python",
   "name": "python",
   "nbconvert_exporter": "python",
   "pygments_lexer": "ipython3",
   "version": "3.11.8"
  },
  "latex_envs": {
   "LaTeX_envs_menu_present": true,
   "autoclose": false,
   "autocomplete": true,
   "bibliofile": "biblio.bib",
   "cite_by": "apalike",
   "current_citInitial": 1,
   "eqLabelWithNumbers": true,
   "eqNumInitial": 1,
   "hotkeys": {
    "equation": "Ctrl-E",
    "itemize": "Ctrl-I"
   },
   "labels_anchors": false,
   "latex_user_defs": false,
   "report_style_numbering": false,
   "user_envs_cfg": false
  }
 },
 "nbformat": 4,
 "nbformat_minor": 2
}
