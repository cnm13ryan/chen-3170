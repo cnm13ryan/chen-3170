{
 "cells": [
  {
   "cell_type": "markdown",
   "metadata": {},
   "source": [
    "ChEn-3170: Computational Methods in Chemical Engineering Fall 2024 UMass Lowell; Prof. V. F. de Almeida **13Sep24**\n",
    "\n",
    "# 05. Basic Flow Controls in Python\n",
    "$  \n",
    "  \\newcommand{\\Amtrx}{\\boldsymbol{\\mathsf{A}}}\n",
    "  \\newcommand{\\Bmtrx}{\\boldsymbol{\\mathsf{B}}}\n",
    "  \\newcommand{\\Mmtrx}{\\boldsymbol{\\mathsf{M}}}\n",
    "  \\newcommand{\\Imtrx}{\\boldsymbol{\\mathsf{I}}}\n",
    "  \\newcommand{\\Pmtrx}{\\boldsymbol{\\mathsf{P}}}\n",
    "  \\newcommand{\\Lmtrx}{\\boldsymbol{\\mathsf{L}}}\n",
    "  \\newcommand{\\Umtrx}{\\boldsymbol{\\mathsf{U}}}\n",
    "  \\newcommand{\\xvec}{\\boldsymbol{\\mathsf{x}}}\n",
    "  \\newcommand{\\avec}{\\boldsymbol{\\mathsf{a}}}\n",
    "  \\newcommand{\\bvec}{\\boldsymbol{\\mathsf{b}}}\n",
    "  \\newcommand{\\cvec}{\\boldsymbol{\\mathsf{c}}}\n",
    "  \\newcommand{\\zerovec}{\\boldsymbol{\\mathsf{0}}}\n",
    "  \\newcommand{\\rvec}{\\boldsymbol{\\mathsf{r}}}\n",
    "  \\newcommand{\\norm}[1]{\\bigl\\lVert{#1}\\bigr\\rVert}\n",
    "  \\DeclareMathOperator{\\rank}{rank}\n",
    "$"
   ]
  },
  {
   "cell_type": "markdown",
   "metadata": {},
   "source": [
    "---\n",
    "## Table of Contents<a id=\"toc\">\n",
    "* [Objectives](#obj)\n",
    "* [Modules](#modules)\n",
    "* [Conditionals](#conditionals)\n",
    "  + [Assert](#assert)\n",
    "  + [If](#if)\n",
    "* [Loops](#loops)\n",
    "  + [For](#for)\n",
    "  + [While](#while)\n",
    "  + [List comprehension](#listcomp)\n",
    "* [Functions](#functions)\n",
    "  + [Example:](#get_triangular_matrix) get triangular matrix\n",
    "  + [Example:](#forward_solve) foward substitution solve\n",
    "* [Input/Output](#io)\n",
    "  + [Read \"text\"](#itext)\n",
    "  + [Read \"data\"](#idata)\n",
    "* [URL Image Import](#url)\n",
    "---"
   ]
  },
  {
   "cell_type": "markdown",
   "metadata": {},
   "source": [
    "## [Objectives](#toc)<a id=\"obj\"></a>\n",
    "\n",
    " + Describe a variety of controls used to manipulate the execution of a Python program in this course."
   ]
  },
  {
   "cell_type": "markdown",
   "metadata": {},
   "source": [
    "## [Modules](#toc)<a id=\"modules\"></a>\n",
    "We have been using `import` packages into the Python notebook (*e.g* `import numpy as np`). We can use this to simplify our future coding experience and accelerate learning. For instance, we can use import of our own codes. In this course a directory named `chen_3170` was created in the [repository](https://github.com/dpploy/chen-3170) file system to store course-related Python code. The syntax to import codes in the repository is as follows:"
   ]
  },
  {
   "cell_type": "code",
   "execution_count": 1,
   "metadata": {},
   "outputs": [
    {
     "name": "stdout",
     "output_type": "stream",
     "text": [
      "Help on package chen_3170:\n",
      "\n",
      "NAME\n",
      "    chen_3170\n",
      "\n",
      "PACKAGE CONTENTS\n",
      "    help\n",
      "    toolkit\n",
      "\n",
      "FILE\n",
      "    (built-in)\n",
      "\n",
      "\n"
     ]
    }
   ],
   "source": [
    "'''To view what is available'''\n",
    "\n",
    "import chen_3170\n",
    "\n",
    "help(chen_3170)"
   ]
  },
  {
   "cell_type": "code",
   "execution_count": 2,
   "metadata": {},
   "outputs": [
    {
     "name": "stdout",
     "output_type": "stream",
     "text": [
      "Help on module chen_3170.help in chen_3170:\n",
      "\n",
      "NAME\n",
      "    chen_3170.help - #--*-- coding: utf-8 -*-\n",
      "\n",
      "FUNCTIONS\n",
      "    color_map(num_colors)\n",
      "        Nice colormap for plotting.\n",
      "\n",
      "        Parameters\n",
      "        ----------\n",
      "        num_colors: int\n",
      "            Number of colors.\n",
      "\n",
      "        Returns\n",
      "        -------\n",
      "        color_map: list(tuple(R,G,B,A))\n",
      "            List with colors interpolated from internal list of primary colors.\n",
      "\n",
      "    forward_solve(l_mtrx, b_vec, loop_option='use-dot-product', zero_tol=1e-12)\n",
      "        Performs a forward solve with a lower triangular matrix and right side vector.\n",
      "\n",
      "        Parameters\n",
      "        ----------\n",
      "        l_mtrx: numpy.ndarray\n",
      "           Lower triangular matrix.\n",
      "        b_vec:  numpy.ndarray\n",
      "           Right-side vector.\n",
      "        loop_option: string\n",
      "           This is an internal option to demonstrate the usage of an explicit\n",
      "           double loop or an implicit loop using a dot product.\n",
      "        zero_tol: float\n",
      "           Tolerance for non-zero values in the upper triangular portion.\n",
      "\n",
      "        Returns\n",
      "        -------\n",
      "        x_vec: numpy.narray\n",
      "               Solution vector returned.\n",
      "\n",
      "        Examples\n",
      "        --------\n",
      "\n",
      "    get_covid_19_global_data(type='deaths', distribution=True, cumulative=False)\n",
      "        Load COVID-19 pandemic cumulative data from:\n",
      "\n",
      "            https://github.com/CSSEGISandData/COVID-19\n",
      "\n",
      "        Parameters\n",
      "        ----------\n",
      "        type: str, optional\n",
      "            Type of data. Deaths ('deaths') and confirmed cases ('confirmed').\n",
      "            Default: 'deaths'.\n",
      "\n",
      "        distribution: bool, optional\n",
      "            Distribution of new cases over dates.\n",
      "            Default: True\n",
      "\n",
      "        cumulative: bool, optional\n",
      "            Cumulative number of cases over dates.\n",
      "            Default: False\n",
      "\n",
      "        Returns\n",
      "        -------\n",
      "        data: tuple(int, list(str), list(int))\n",
      "               (contry_names, dates, cases)\n",
      "\n",
      "    get_covid_19_us_data(type='deaths')\n",
      "        Load COVID-19 pandemic cumulative data from:\n",
      "\n",
      "         https://github.com/CSSEGISandData/COVID-19.\n",
      "\n",
      "        Parameters\n",
      "        ----------\n",
      "        type:  str, optional\n",
      "                Type of data. Deaths ('deaths') and confirmed cases ('confirmed').\n",
      "                Default: 'deaths'.\n",
      "\n",
      "        Returns\n",
      "        -------\n",
      "        data: tuple(int, list(str), list(int))\n",
      "               (population, dates, cases)\n",
      "\n",
      "    get_triangular_matrix(mode='lower', ndim=None, mtrx=None)\n",
      "        Returns a triangular matrix in-place.\n",
      "\n",
      "        If a matrix is given, the function will modify the input, in place, into a\n",
      "        triangular matrix. The mtrx object will be modified and reflected on the callee\n",
      "        side. Otherwise, the function generates a random triangular matrix.\n",
      "\n",
      "        Parameters\n",
      "        ----------\n",
      "        mode: string, optional\n",
      "              Type of triangular matrix: 'lower' or 'upper'. Defaults to lower\n",
      "              triangular.\n",
      "        ndim: int, optional\n",
      "              Dimension of the square matrix. If a matrix is not provided this\n",
      "              argument is required.\n",
      "        mtrx: numpy.ndarray, optional\n",
      "              square matrix to be turned into a triangular matrix.\n",
      "\n",
      "        Returns\n",
      "        -------\n",
      "        mtrx: numpy.ndarray\n",
      "              If a matrix was not passed the return is random array. If a matrix\n",
      "              was passed, its view is modified.\n",
      "\n",
      "        Examples\n",
      "        --------\n",
      "\n",
      "        >>> from chen_3170.help import get_triangular_matrix\n",
      "        >>> a_mtrx = get_triangular_matrx('lower',3)\n",
      "        >>> a_mtrx\n",
      "        array([[0.38819556, 0.    , 0.        ],\n",
      "           [0.12304746, 0.07522054, 0.        ],\n",
      "           [0.96357929, 0.69187941, 0.2878785 ]])\n",
      "\n",
      "    plot_arrhenius_experimental_data(temp, k_cte, style=None)\n",
      "        Plot T versus k data for fitting an Arrhenius rate constant expression.\n",
      "\n",
      "        Parameters\n",
      "        ----------\n",
      "        temp: nd.array, required\n",
      "            Temperature data.\n",
      "        k_cte: nd.array, required\n",
      "            Reaction rate constant data.\n",
      "\n",
      "        Returns\n",
      "        -------\n",
      "        None: None\n",
      "\n",
      "        Examples\n",
      "        --------\n",
      "\n",
      "    plot_matrix(mtrx, color_map='bw', title=None, style=None, yaxis=True, xaxis=True, xlabels=None, ylabels=None, xrotation=60, figure_size=(20, 4))\n",
      "        Plot matrix as an image.\n",
      "\n",
      "        Parameters\n",
      "        ----------\n",
      "        mtrx: numpy.ndarray\n",
      "            Matrix data.\n",
      "        color_map: str\n",
      "            Color map for image: 'bw' black and white, use any other valid colormap.\n",
      "        title: str, optional\n",
      "            Title for plot.\n",
      "        style: str\n",
      "            Matplotlib style: 'dark', 'default', 'gray'\n",
      "        xlabels: list(str)\n",
      "            Labels for the x axis.\n",
      "        ylables: list(str)\n",
      "            Labels for the y axis.\n",
      "        xrotation: int\n",
      "            Rotate x labels.\n",
      "        Returns\n",
      "        -------\n",
      "        None:\n",
      "\n",
      "        Examples\n",
      "        --------\n",
      "\n",
      "    print_reaction_sub_mechanisms(sub_mechanisms, mode=None, print_n_sub_mech=None)\n",
      "        Nice printout of a scored reaction sub-mechanism list\n",
      "\n",
      "        Parameters\n",
      "        ----------\n",
      "        sub_mechanims: list(str), required\n",
      "              Sorted reaction mechanims in the form of a list.\n",
      "\n",
      "        mode: string, optional\n",
      "              Printing mode: all, top, None.\n",
      "\n",
      "        Returns\n",
      "        -------\n",
      "        None:\n",
      "\n",
      "        Examples\n",
      "        --------\n",
      "\n",
      "    print_reactions(reactions)\n",
      "        Nice printout of a reactions list.\n",
      "\n",
      "        Parameters\n",
      "        ----------\n",
      "        reactions: list(str)\n",
      "              Reactions in the form of a list.\n",
      "\n",
      "        Returns\n",
      "        -------\n",
      "        None:\n",
      "\n",
      "        Examples\n",
      "        --------\n",
      "\n",
      "    read_arrhenius_experimental_data(filename)\n",
      "        Read k versus T data for fitting an Arrhenius rate constant expression.\n",
      "\n",
      "        Parameters\n",
      "        ----------\n",
      "        filename: string, required\n",
      "                File name of data file including the path.\n",
      "\n",
      "        Returns\n",
      "        -------\n",
      "        r_cte: float\n",
      "            Universal gas constant.\n",
      "        r_cte: string\n",
      "            Universal gas constant unit.\n",
      "        n_pts: int\n",
      "            Number of data points\n",
      "        temp: np.ndarray, float\n",
      "            Temperature data.\n",
      "        k_cte: np.ndarray, float\n",
      "            Reaction rate constant data.\n",
      "\n",
      "        Examples\n",
      "        --------\n",
      "\n",
      "FILE\n",
      "    /home/dealmeida/OneDrive/uml-courses/chen-3170/2024-01-05-spring/jupynb-repo/notebooks/chen_3170/help.py\n",
      "\n",
      "\n"
     ]
    }
   ],
   "source": [
    "'''Check individual packages'''\n",
    "\n",
    "import chen_3170.help\n",
    "\n",
    "help(chen_3170.help)"
   ]
  },
  {
   "cell_type": "code",
   "execution_count": 3,
   "metadata": {},
   "outputs": [
    {
     "name": "stdout",
     "output_type": "stream",
     "text": [
      "Help on function get_triangular_matrix in module chen_3170.help:\n",
      "\n",
      "get_triangular_matrix(mode='lower', ndim=None, mtrx=None)\n",
      "    Returns a triangular matrix in-place.\n",
      "\n",
      "    If a matrix is given, the function will modify the input, in place, into a\n",
      "    triangular matrix. The mtrx object will be modified and reflected on the callee\n",
      "    side. Otherwise, the function generates a random triangular matrix.\n",
      "\n",
      "    Parameters\n",
      "    ----------\n",
      "    mode: string, optional\n",
      "          Type of triangular matrix: 'lower' or 'upper'. Defaults to lower\n",
      "          triangular.\n",
      "    ndim: int, optional\n",
      "          Dimension of the square matrix. If a matrix is not provided this\n",
      "          argument is required.\n",
      "    mtrx: numpy.ndarray, optional\n",
      "          square matrix to be turned into a triangular matrix.\n",
      "\n",
      "    Returns\n",
      "    -------\n",
      "    mtrx: numpy.ndarray\n",
      "          If a matrix was not passed the return is random array. If a matrix\n",
      "          was passed, its view is modified.\n",
      "\n",
      "    Examples\n",
      "    --------\n",
      "\n",
      "    >>> from chen_3170.help import get_triangular_matrix\n",
      "    >>> a_mtrx = get_triangular_matrx('lower',3)\n",
      "    >>> a_mtrx\n",
      "    array([[0.38819556, 0.    , 0.        ],\n",
      "       [0.12304746, 0.07522054, 0.        ],\n",
      "       [0.96357929, 0.69187941, 0.2878785 ]])\n",
      "\n"
     ]
    }
   ],
   "source": [
    "'''Import the get_triangular_matrix function'''\n",
    "\n",
    "from chen_3170.help import get_triangular_matrix\n",
    "\n",
    "help(get_triangular_matrix)"
   ]
  },
  {
   "cell_type": "code",
   "execution_count": 4,
   "metadata": {},
   "outputs": [
    {
     "name": "stdout",
     "output_type": "stream",
     "text": [
      "a_mtrx =\n",
      " [[0.54008165 0.         0.         0.         0.        ]\n",
      " [0.8337347  0.91818372 0.         0.         0.        ]\n",
      " [0.55327301 0.2090194  0.5581363  0.         0.        ]\n",
      " [0.96328134 0.07004171 0.16653866 0.47029927 0.        ]\n",
      " [0.30559105 0.69895153 0.95167302 0.96594867 0.78117939]]\n",
      "a_mtrx =\n",
      " [[0.65092865 0.98660723 0.97168589 0.35583719 0.35587113]\n",
      " [0.         0.00946068 0.29297313 0.48130769 0.70026568]\n",
      " [0.         0.         0.78873811 0.3054612  0.89683852]\n",
      " [0.         0.         0.         0.72768593 0.85300515]\n",
      " [0.         0.         0.         0.         0.28557441]]\n",
      "ones_mtrx =\n",
      " [[1. 1. 1. 1. 1.]\n",
      " [1. 1. 1. 1. 1.]\n",
      " [1. 1. 1. 1. 1.]\n",
      " [1. 1. 1. 1. 1.]\n",
      " [1. 1. 1. 1. 1.]]\n",
      "a_mtrx =\n",
      " [[1. 0. 0. 0. 0.]\n",
      " [1. 1. 0. 0. 0.]\n",
      " [1. 1. 1. 0. 0.]\n",
      " [1. 1. 1. 1. 0.]\n",
      " [1. 1. 1. 1. 1.]]\n"
     ]
    }
   ],
   "source": [
    "'''Practice using the function'''\n",
    "\n",
    "a_mtrx = get_triangular_matrix('lower',5) # lower triangular random matrix 5 x 5\n",
    "print('a_mtrx =\\n',a_mtrx)\n",
    "\n",
    "a_mtrx = get_triangular_matrix('upper',5) # upper triangular random matrix 5 x 5\n",
    "print('a_mtrx =\\n',a_mtrx)\n",
    "\n",
    "import numpy as np\n",
    "ones_mtrx = np.ones((5,5))\n",
    "print('ones_mtrx =\\n',ones_mtrx)\n",
    "\n",
    "a_mtrx = get_triangular_matrix('lower', mtrx=ones_mtrx)\n",
    "print('a_mtrx =\\n',a_mtrx)"
   ]
  },
  {
   "cell_type": "code",
   "execution_count": 5,
   "metadata": {},
   "outputs": [
    {
     "name": "stdout",
     "output_type": "stream",
     "text": [
      "matrix shape = (5, 5)\n"
     ]
    },
    {
     "data": {
      "image/png": "[encoded data removed]",
      "text/plain": [
       "<Figure size 2000x400 with 1 Axes>"
      ]
     },
     "metadata": {},
     "output_type": "display_data"
    }
   ],
   "source": [
    "'''Auxiliary function'''\n",
    "\n",
    "from chen_3170.help import plot_matrix\n",
    "\n",
    "plot_matrix(a_mtrx, title='Example')"
   ]
  },
  {
   "cell_type": "markdown",
   "metadata": {},
   "source": [
    "<div class=\"alert alert-block alert-warning\">\n",
    "The source code should be inspected for correctness and as a source of information for future programing. This is how the source code can be viewed and copied into a notebook cell.\n",
    "</div>"
   ]
  },
  {
   "cell_type": "code",
   "execution_count": 6,
   "metadata": {
    "scrolled": true
   },
   "outputs": [
    {
     "data": {
      "text/plain": [
       "'View the source code in the notebook'"
      ]
     },
     "execution_count": 6,
     "metadata": {},
     "output_type": "execute_result"
    }
   ],
   "source": [
    "'''View the source code in the notebook'''\n",
    "\n",
    "# This command does not work on Windows (the source code is provide below in any case)\n",
    "#!cat \"chen_3170/help.py\" # ugly but works for now\n",
    "\n",
    "# This command seems to work on Windows (uncomment the next line)\n",
    "#!type \"chen_3170\\help.py\""
   ]
  },
  {
   "cell_type": "markdown",
   "metadata": {},
   "source": [
    "Copying the source code to this cell and rendering it with code block fences gives:\n",
    "\n",
    "```python\n",
    "def get_triangular_matrix( mode='lower', ndim=None, mtrx=None ):\n",
    "    '''\n",
    "    Returns a triangular matrix in-place.\n",
    "\n",
    "    If a matrix is given, the function will modify the input, in place, into a \n",
    "    triangular matrix. The mtrx object will be modified and reflected on the callee side.\n",
    "    Otherwise, the function generates a random triangular matrix.\n",
    "\n",
    "    Parameters\n",
    "    ----------\n",
    "    mode: string, optional\n",
    "          Type of triangular matrix: 'lower' or 'upper'. Defaults to lower \n",
    "          triangular.\n",
    "    ndim: int, optional\n",
    "          Dimension of the square matrix. If a matrix is not provided this \n",
    "          argument is required. \n",
    "    mtrx: numpy.ndarray, optional\n",
    "          square matrix to be turned into a triangular matrix.\n",
    "    \n",
    "    Returns\n",
    "    -------\n",
    "    mtrx: numpy.ndarray\n",
    "          If a matrix was not passed the return is random array. If a matrix\n",
    "          was passed, its view is modified.\n",
    "\n",
    "    Examples\n",
    "    --------\n",
    "\n",
    "    >>> a_mtrx = ce.get_triangular_matrx('lower',3)\n",
    "    >>> a_mtrx\n",
    "    array([[0.38819556, 0.    , 0.        ],\n",
    "       [0.12304746, 0.07522054, 0.        ],\n",
    "       [0.96357929, 0.69187941, 0.2878785 ]])\n",
    "\n",
    "    '''\n",
    "\n",
    "    assert ndim is None or mtrx is None, 'ndim or mtrx must be given; not both.'\n",
    "    assert not (ndim is None and mtrx is None), 'either ndim or mtrx must be given.'\n",
    "    assert mode =='lower' or mode =='upper', 'invalid mode %r.'%mode\n",
    "    \n",
    "    if mtrx is None:\n",
    "        import numpy as np\n",
    "        mtrx = np.random.random((ndim,ndim))\n",
    "    else:\n",
    "        assert mtrx.shape[0] == mtrx.shape[1], 'matrix not square.' \n",
    "    \n",
    "    # ready to return matrix  \n",
    "    if mode == 'lower':\n",
    "        for i in range(mtrx.shape[0]):\n",
    "            mtrx[i,i+1:] = 0.0\n",
    "    elif mode == 'upper':\n",
    "        for j in range(mtrx.shape[1]):\n",
    "            mtrx[j+1:,j] = 0.0\n",
    "    else:\n",
    "        assert False, 'oops. something is very wrong.'\n",
    "\n",
    "    return mtrx      \n",
    "```"
   ]
  },
  {
   "cell_type": "markdown",
   "metadata": {},
   "source": [
    "## [Conditionals](#toc)<a id=\"conditionals\"></a>\n",
    "Constructs that allow branching of operations. The most importants are:\n",
    " 1. `assert` statement\n",
    " 1. `if` statement"
   ]
  },
  {
   "cell_type": "markdown",
   "metadata": {},
   "source": [
    "### [`Assert` statement](#toc)<a id=\"assert\"></a>\n",
    "The general format is:\n",
    "```python\n",
    "    assert test, string(formatted)\n",
    "```\n",
    "and it tests for whether `test` is `True`."
   ]
  },
  {
   "cell_type": "markdown",
   "metadata": {},
   "source": [
    "### Examples\n",
    "```python\n",
    "    assert ndim is None or mtrx is None, 'ndim or mtrx must be given; not both.'\n",
    "    assert not (ndim is None and mtrx is None), 'either ndim or mtrx must be given.'\n",
    "    assert mode =='lower' or mode =='upper', 'invalid mode %r.'%mode\n",
    "    # better yet\n",
    "    assert mode in ('lower', 'upper'), 'invalid mode %r.'%mode\n",
    "```"
   ]
  },
  {
   "cell_type": "code",
   "execution_count": 7,
   "metadata": {},
   "outputs": [],
   "source": [
    "'''Testing example'''\n",
    "\n",
    "import numpy as np\n",
    "\n",
    "ndim = None\n",
    "#ndim = 1  # uncomment for failing assert\n",
    "mtrx = np.random.random((3,4))\n",
    "\n",
    "assert ndim is None or mtrx is None, 'either ndim or mtrx must be given; not both'\n",
    "\n",
    "#mtrx = None # uncomment for failing assert\n",
    "assert not (ndim is None and mtrx is None), 'either ndim or mtrx must be given; ndim = %r; mtrx = %r.'%(ndim, mtrx)"
   ]
  },
  {
   "cell_type": "code",
   "execution_count": 8,
   "metadata": {},
   "outputs": [],
   "source": [
    "'''Testing example'''\n",
    "\n",
    "import numpy as np\n",
    "\n",
    "mode = 'lower'\n",
    "#mode = 'dontknow' # uncomment for a failing assert\n",
    "\n",
    "assert mode == 'lower' or mode == 'upper', 'invalid mode: %r.'%mode\n",
    "# better yet\n",
    "assert mode in ('lower', 'upper'), 'invalid mode %r.'%mode"
   ]
  },
  {
   "cell_type": "markdown",
   "metadata": {},
   "source": [
    "### [`If` statement](#toc)<a id='if'></a>\n",
    "The general format is:\n",
    "```python\n",
    "if test1:        # if test\n",
    "    statements1  # associated block\n",
    "elif test2:      # optional elifs\n",
    "    statements2\n",
    "elif test3:      # more optional elifs etc.\n",
    "    statements3\n",
    "else:            # optional final else\n",
    "    statements4\n",
    "    \n",
    "# continue normal flow from here\n",
    "```"
   ]
  },
  {
   "cell_type": "markdown",
   "metadata": {},
   "source": [
    "### Example\n",
    "If-else example:\n",
    "```python\n",
    "    if mtrx is None:      # test if mtrx has type None\n",
    "        import numpy as np\n",
    "        mtrx = np.random.random((n,n))  # associated block\n",
    "    else:                 # final test\n",
    "        assert mtrx.shape[0] == mtrx.shape[1] # l_mtrx must be square\n",
    "```"
   ]
  },
  {
   "cell_type": "code",
   "execution_count": 9,
   "metadata": {},
   "outputs": [
    {
     "name": "stdout",
     "output_type": "stream",
     "text": [
      "[[0.38278752 0.58936726 0.78406182 0.81072683]\n",
      " [0.43764499 0.64209725 0.2182431  0.94039442]\n",
      " [0.82862446 0.94479189 0.75358904 0.09570457]\n",
      " [0.29900516 0.19772403 0.37584128 0.24319784]]\n"
     ]
    }
   ],
   "source": [
    "'''Testing example'''\n",
    "\n",
    "test = 1 # change this to 1, 2 or 3\n",
    "\n",
    "# test setup (uses multiway branching)\n",
    "if test == 1:\n",
    "    mtrx = None\n",
    "    n = 4    \n",
    "elif test == 2:\n",
    "    import numpy as np\n",
    "    mtrx = np.array( [ [3.4, 2.1, 4.5],\n",
    "                       [0.0, 2.0, 1.0] \n",
    "                     ] )\n",
    "elif test == 3:\n",
    "    import numpy as np\n",
    "    mtrx = np.array( [ [ 3.4,  2.1,  4.5],\n",
    "                       [ 0.0,  2.0,  1.0],\n",
    "                       [-1.0, -3.0, -5.0]\n",
    "                     ] )\n",
    "else:\n",
    "    assert False, 'test must be 1, 2, or 3.'\n",
    "\n",
    "# What we are really testing\n",
    "#---------------------------------------------------------------    \n",
    "if mtrx is None:      # test if mtrx has type None\n",
    "    import numpy as np\n",
    "    mtrx = np.random.random((n,n))  # associated block\n",
    "else:                 # final test\n",
    "    assert mtrx.shape[0] == mtrx.shape[1], 'matrix not square.'\n",
    "#---------------------------------------------------------------\n",
    "    \n",
    "print(mtrx)"
   ]
  },
  {
   "cell_type": "markdown",
   "metadata": {},
   "source": [
    "### Example\n",
    "Multiway branching example:\n",
    "```python\n",
    "    # ready to return matrix  \n",
    "    if mode == 'lower':                 # test if mode is 'lower'\n",
    "        for i in range(mtrx.shape[0]):  # associated block of statements\n",
    "            mtrx[i,i+1:] = 0.0\n",
    "    elif mode == 'upper':               # test if mode is 'upper'\n",
    "        for j in range(mtrx.shape[1]):  # associated block of statements\n",
    "            mtrx[j+1:,j] = 0.0\n",
    "    else:                               # final test\n",
    "        assert False, 'mode must be either lower or upper.' # associated block\n",
    "```"
   ]
  },
  {
   "cell_type": "code",
   "execution_count": 10,
   "metadata": {},
   "outputs": [
    {
     "name": "stdout",
     "output_type": "stream",
     "text": [
      "[[ 3.4  0.   0. ]\n",
      " [ 0.   2.   0. ]\n",
      " [-1.  -3.  -5. ]]\n"
     ]
    }
   ],
   "source": [
    "'''Testing example'''\n",
    "\n",
    "import numpy as np\n",
    "test = 1 # change this to 1 or 2\n",
    "\n",
    "mtrx = np.array([[ 3.4,  2.1,  4.5],\n",
    "                 [ 0.0,  2.0,  1.0],\n",
    "                 [-1.0, -3.0, -5.0]\n",
    "                ])\n",
    "# test setup (uses multiway branching)\n",
    "if test == 1:\n",
    "    mode = 'lower'\n",
    "elif test == 2:\n",
    "    mode = 'upper'\n",
    "else:\n",
    "    assert False,'test must be 1 or 2.'\n",
    "    \n",
    "# What we are really testing\n",
    "#---------------------------------------------------------------    \n",
    "# ready to return matrix  \n",
    "if mode == 'lower':                 # test if mode is 'lower'\n",
    "    for i in range(mtrx.shape[0]):  # associated block of statements\n",
    "            mtrx[i,i+1:] = 0.0\n",
    "elif mode == 'upper':               # test if mode is 'upper'\n",
    "    for j in range(mtrx.shape[1]):  # associated block of statements\n",
    "        mtrx[j+1:,j] = 0.0\n",
    "else:                               # final test\n",
    "    assert False, 'mode must be either \"lower\" or \"upper\"' # associated block\n",
    "#---------------------------------------------------------------\n",
    "    \n",
    "print(mtrx)"
   ]
  },
  {
   "cell_type": "markdown",
   "metadata": {},
   "source": [
    "## [Loops](#toc)<a id=\"loops\"></a>\n",
    "Contructs that allow repetitive actions on data. There are two basic types: \n",
    " 1. `for` loops\n",
    " 2. `while` loops\n",
    " 3. List comphrension"
   ]
  },
  {
   "cell_type": "markdown",
   "metadata": {},
   "source": [
    "### [`For` loops](#toc)<a id='for'></a>\n",
    "\n",
    "The general format is (**indentation is mandatory**):\n",
    "\n",
    "```python\n",
    "for target in container: # assign object items from container (ordered or not) to target\n",
    "    \n",
    "    statements      # repeated loop body: (possibly) use target\n",
    "    \n",
    "    if test1: \n",
    "        break         # exit loop now; skip else\n",
    "    if test2: \n",
    "        continue      # go to top of the loop now\n",
    "\n",
    "    more statements\n",
    "        \n",
    "else:                 # optional else part\n",
    "    statements        # if did not hit a `break`\n",
    "```"
   ]
  },
  {
   "cell_type": "markdown",
   "metadata": {},
   "source": [
    "### Example\n",
    "```python\n",
    "for i in range(mtrx.shape[0]): # assign i to objects in range(mtrx.shape[0])\n",
    "    mtrx[i, i+1:] = 0.0         # loop over this statement with varying i\n",
    "```"
   ]
  },
  {
   "cell_type": "code",
   "execution_count": 11,
   "metadata": {},
   "outputs": [
    {
     "name": "stdout",
     "output_type": "stream",
     "text": [
      "[[0.48955031 0.10344643 0.60782303 0.5312085  0.3435563 ]\n",
      " [0.15665634 0.30519101 0.97239141 0.06072193 0.41012755]\n",
      " [0.06293399 0.94781374 0.18892725 0.65279647 0.46656885]\n",
      " [0.4926245  0.49636141 0.69274018 0.74292445 0.73419645]\n",
      " [0.53966817 0.45321714 0.66533723 0.14700171 0.48843488]]\n",
      "i = 0\n",
      "i = 1\n",
      "i = 2\n",
      "i = 3\n",
      "i = 4\n",
      "[[0.48955031 0.         0.         0.         0.        ]\n",
      " [0.15665634 0.30519101 0.         0.         0.        ]\n",
      " [0.06293399 0.94781374 0.18892725 0.         0.        ]\n",
      " [0.4926245  0.49636141 0.69274018 0.74292445 0.        ]\n",
      " [0.53966817 0.45321714 0.66533723 0.14700171 0.48843488]]\n"
     ]
    }
   ],
   "source": [
    "'''Testing example'''\n",
    "\n",
    "import numpy as np\n",
    "\n",
    "mtrx = np.random.random((5,5))\n",
    "print(mtrx)\n",
    "\n",
    "m_rows = mtrx.shape[0]\n",
    "\n",
    "for i in range(m_rows):  # assign i to objects in range(m_rows)\n",
    "    print('i =',i)\n",
    "    mtrx[i,i+1:] = 0.0  # for each row, zero out columns to the right of the main diagonal\n",
    "    \n",
    "print(mtrx)"
   ]
  },
  {
   "cell_type": "code",
   "execution_count": 12,
   "metadata": {},
   "outputs": [
    {
     "name": "stdout",
     "output_type": "stream",
     "text": [
      "0\n",
      "1\n",
      "2\n",
      "3\n",
      "4\n",
      "6\n",
      "7\n",
      "8\n",
      "9\n"
     ]
    }
   ],
   "source": [
    "'''Example with Continue'''\n",
    "\n",
    "for i in range(10):\n",
    "    \n",
    "    if i == 5:\n",
    "        continue # go to the top of the loop now\n",
    "        #break   # quit the loop now\n",
    "    else:\n",
    "        print(i)"
   ]
  },
  {
   "cell_type": "code",
   "execution_count": 13,
   "metadata": {},
   "outputs": [
    {
     "data": {
      "text/plain": [
       "'TODO'"
      ]
     },
     "execution_count": 13,
     "metadata": {},
     "output_type": "execute_result"
    }
   ],
   "source": [
    "'''TODO'''\n",
    "\n",
    "# example on how to use enumerate (see notebook 07, stoic matrix assembly loop)"
   ]
  },
  {
   "cell_type": "markdown",
   "metadata": {},
   "source": [
    "### [`While` loops](#toc)<a id=\"while\"></a>\n",
    "\n",
    "The general format is:\n",
    "\n",
    "```python\n",
    "    while `test` :\n",
    "        \n",
    "        `statments` # loop over the body of statements as long as `test` is true\n",
    "```"
   ]
  },
  {
   "cell_type": "markdown",
   "metadata": {},
   "source": [
    "### Example\n",
    "\n",
    "```python\n",
    "    while (abs(delta_k) > tolerance or abs(f_k) > tolerance) and k <= k_max:\n",
    "        \n",
    "        # body\n",
    "        \n",
    "        f_k       = f_eq( ext_hat, x_a_0, x_b_0, x_c_0, eq_kx_cte )\n",
    "        f_prime_k = f_eq_prime( ext_hat, x_c_0, eq_kx_cte )\n",
    "        \n",
    "        delta_k_old = delta_k\n",
    "        delta_k = -f_k / f_prime_k\n",
    "        \n",
    "        ext_hat += delta_k\n",
    "        \n",
    "        if k > 0:\n",
    "            if delta_k != 0.0 and delta_k_old != 0.0:\n",
    "                convergence_factor = math.log(abs(delta_k),10) / math.log(abs(delta_k_old),10)\n",
    "            else:\n",
    "                convergence_factor = 0.0  \n",
    "        else:\n",
    "            convergence_factor = 0.0\n",
    "            \n",
    "        k = k + 1\n",
    "        \n",
    "        if verbose is True:\n",
    "            print('%2i %+5.3e %+5.3e %+5.3e  %+5.3e %5.2f'%\\\n",
    "                  (k,f_k,f_prime_k,abs(delta_k),ext_hat,convergence_factor))\n",
    "            \n",
    "        # ends by indentation\n",
    "```"
   ]
  },
  {
   "cell_type": "code",
   "execution_count": 14,
   "metadata": {},
   "outputs": [
    {
     "name": "stdout",
     "output_type": "stream",
     "text": [
      "k = 0\n",
      "k = 1\n",
      "k = 2\n",
      "k = 3\n",
      "k = 4\n",
      "k = 5\n",
      "k = 6\n",
      "k = 7\n",
      "k = 8\n",
      "k = 9\n"
     ]
    }
   ],
   "source": [
    "'''While example'''\n",
    "\n",
    "k_max = 9\n",
    "k = 0\n",
    "\n",
    "while k <= k_max:\n",
    "    \n",
    "    print('k =',k)\n",
    "    k += 1"
   ]
  },
  {
   "cell_type": "markdown",
   "metadata": {},
   "source": [
    "### [List Comprehension](#toc)<a id=\"listcomp\"></a>\n",
    "A list comprehension is simple way to build a for loop inside a Python list. For example:\n",
    "\n",
    "```python\n",
    "[i for i in range(10)]\n",
    "```"
   ]
  },
  {
   "cell_type": "code",
   "execution_count": 15,
   "metadata": {},
   "outputs": [
    {
     "data": {
      "text/plain": [
       "[0, 1, 2, 3, 4, 5, 6, 7, 8, 9]"
      ]
     },
     "execution_count": 15,
     "metadata": {},
     "output_type": "execute_result"
    }
   ],
   "source": [
    "'''List Comprehension'''\n",
    "\n",
    "[i for i in range(10)]"
   ]
  },
  {
   "cell_type": "markdown",
   "metadata": {},
   "source": [
    "## [Functions](#toc)<a id=\"functions\"></a>\n",
    "In simple terms, functions are an efficient alternative to *cutting and pasting* code. They increase code reuse, allow for modularity, and are indispensible to software/code design. An initial format of the functions we will use is:\n",
    "```python\n",
    "def function_name(param1, param2,..., paramN):\n",
    "    statements\n",
    "    ...\n",
    "    statements\n",
    "    return result # optional but almost always present\n",
    "```\n",
    "The function block has its own scope and no variable name is accessible inside the function unless it is passed through the argument list.\n",
    "\n",
    "How to use a function with $n$ parameters in a Jupyter Notebook cell:\n",
    "\n",
    "```python\n",
    "a_param = 10\n",
    "b_param = 'hello'\n",
    "...\n",
    "n_param\n",
    "my_result = function_name(a_param, b_param,..., n_param)\n",
    "```\n",
    "\n",
    "Parameters (or function arguments) can have a default value in case they are not passed by the calling program:\n",
    "```python\n",
    "def function_name(param1=value1, param2=value2,..., paramN=value3):\n",
    "    statements\n",
    "    ...\n",
    "    statements\n",
    "    return result # optional but almost always present\n",
    "```\n",
    "If a parameter has a default value, all other following parameters must have default values too.\n",
    "In this case the usage can be simply:\n",
    "\n",
    "```python\n",
    "my_result = function_name()\n",
    "```\n",
    "or\n",
    "```python\n",
    "my_result = function_name(param2='hello')\n",
    "```"
   ]
  },
  {
   "cell_type": "markdown",
   "metadata": {},
   "source": [
    "### [Example: get triangular matrix](#toc)<a id=\"get_triangular_matrix\"></a>\n",
    "```python\n",
    "def get_triangular_matrix(mode='lower', ndim=None, mtrx=None):\n",
    "\n",
    "    assert ndim is None or mtrx is None, 'ndim or mtrx must be given; not both.'\n",
    "    assert mode =='lower' or mode =='upper', 'invalid mode %r.'%mode\n",
    "    \n",
    "    if mtrx is None:\n",
    "        import numpy as np\n",
    "        mtrx = np.random.random((ndim,ndim))\n",
    "    else:\n",
    "        assert mtrx.shape[0] == mtrx.shape[1], 'matrix not square.' \n",
    "    \n",
    "    # ready to return matrix  \n",
    "    if mode == 'lower':\n",
    "        for i in range(mtrx.shape[0]):\n",
    "            mtrx[i,i+1:] = 0.0\n",
    "    elif mode == 'upper':\n",
    "        for j in range(mtrx.shape[1]):\n",
    "            mtrx[j+1:,j] = 0.0\n",
    "    else:\n",
    "        assert False, 'mode must be either lower or upper.'\n",
    "        \n",
    "    return mtrx     \n",
    "```"
   ]
  },
  {
   "cell_type": "code",
   "execution_count": 16,
   "metadata": {},
   "outputs": [
    {
     "name": "stdout",
     "output_type": "stream",
     "text": [
      "Help on function get_triangular_matrix in module chen_3170.help:\n",
      "\n",
      "get_triangular_matrix(mode='lower', ndim=None, mtrx=None)\n",
      "    Returns a triangular matrix in-place.\n",
      "\n",
      "    If a matrix is given, the function will modify the input, in place, into a\n",
      "    triangular matrix. The mtrx object will be modified and reflected on the callee\n",
      "    side. Otherwise, the function generates a random triangular matrix.\n",
      "\n",
      "    Parameters\n",
      "    ----------\n",
      "    mode: string, optional\n",
      "          Type of triangular matrix: 'lower' or 'upper'. Defaults to lower\n",
      "          triangular.\n",
      "    ndim: int, optional\n",
      "          Dimension of the square matrix. If a matrix is not provided this\n",
      "          argument is required.\n",
      "    mtrx: numpy.ndarray, optional\n",
      "          square matrix to be turned into a triangular matrix.\n",
      "\n",
      "    Returns\n",
      "    -------\n",
      "    mtrx: numpy.ndarray\n",
      "          If a matrix was not passed the return is random array. If a matrix\n",
      "          was passed, its view is modified.\n",
      "\n",
      "    Examples\n",
      "    --------\n",
      "\n",
      "    >>> from chen_3170.help import get_triangular_matrix\n",
      "    >>> a_mtrx = get_triangular_matrx('lower',3)\n",
      "    >>> a_mtrx\n",
      "    array([[0.38819556, 0.    , 0.        ],\n",
      "       [0.12304746, 0.07522054, 0.        ],\n",
      "       [0.96357929, 0.69187941, 0.2878785 ]])\n",
      "\n"
     ]
    }
   ],
   "source": [
    "'''Import module'''\n",
    "\n",
    "from chen_3170.help import get_triangular_matrix\n",
    "\n",
    "help(get_triangular_matrix)"
   ]
  },
  {
   "cell_type": "code",
   "execution_count": 17,
   "metadata": {},
   "outputs": [],
   "source": [
    "'''Testing the example'''\n",
    "\n",
    "import numpy as np\n",
    "np.set_printoptions(precision=3) \n",
    "\n",
    "# no arguments will fail\n",
    "#a_mtrx = get_triangular_matrix()"
   ]
  },
  {
   "cell_type": "code",
   "execution_count": 18,
   "metadata": {},
   "outputs": [
    {
     "name": "stdout",
     "output_type": "stream",
     "text": [
      "out_mtrx =\n",
      " [[0.036 0.    0.    0.    0.   ]\n",
      " [0.404 0.86  0.    0.    0.   ]\n",
      " [0.077 0.065 0.792 0.    0.   ]\n",
      " [0.808 0.003 0.403 0.332 0.   ]\n",
      " [0.542 0.06  0.287 0.037 0.274]]\n"
     ]
    }
   ],
   "source": [
    "'''Testing the example'''\n",
    "\n",
    "# one-argument call\n",
    "size = 5\n",
    "out_mtrx = get_triangular_matrix(ndim=size)\n",
    "\n",
    "print('out_mtrx =\\n', out_mtrx)"
   ]
  },
  {
   "cell_type": "code",
   "execution_count": 19,
   "metadata": {},
   "outputs": [
    {
     "name": "stdout",
     "output_type": "stream",
     "text": [
      "out_mtrx =\n",
      " [[0.324 0.    0.    0.    0.   ]\n",
      " [0.396 0.517 0.    0.    0.   ]\n",
      " [0.964 0.255 0.292 0.    0.   ]\n",
      " [0.095 0.664 0.496 0.084 0.   ]\n",
      " [0.497 0.954 0.277 0.192 0.892]]\n"
     ]
    }
   ],
   "source": [
    "'''Testing the example'''\n",
    "\n",
    "# one-argument call\n",
    "in_mtrx = np.random.random((size,size))\n",
    "\n",
    "out_mtrx = get_triangular_matrix(mtrx=in_mtrx)\n",
    "\n",
    "print('out_mtrx =\\n',out_mtrx)"
   ]
  },
  {
   "cell_type": "code",
   "execution_count": 20,
   "metadata": {},
   "outputs": [
    {
     "data": {
      "text/plain": [
       "'Testing the example'"
      ]
     },
     "execution_count": 20,
     "metadata": {},
     "output_type": "execute_result"
    }
   ],
   "source": [
    "'''Testing the example'''\n",
    "\n",
    "# two-argument conflicting call will fail\n",
    "\n",
    "#out_mtrx = get_triangular_matrix(ndim=size, mtrx=in_mtrx) # uncomment to test"
   ]
  },
  {
   "cell_type": "code",
   "execution_count": 21,
   "metadata": {
    "scrolled": true
   },
   "outputs": [
    {
     "name": "stdout",
     "output_type": "stream",
     "text": [
      "in_mtrx before =\n",
      " [[0.959 0.096 0.219 0.812 0.581]\n",
      " [0.043 0.977 0.736 0.808 0.932]\n",
      " [0.201 0.752 0.889 0.832 0.301]\n",
      " [0.107 0.504 0.482 0.194 0.084]\n",
      " [0.948 0.501 0.416 0.063 0.407]]\n",
      "in_mtrx after =\n",
      " [[0.959 0.    0.    0.    0.   ]\n",
      " [0.043 0.977 0.    0.    0.   ]\n",
      " [0.201 0.752 0.889 0.    0.   ]\n",
      " [0.107 0.504 0.482 0.194 0.   ]\n",
      " [0.948 0.501 0.416 0.063 0.407]]\n",
      "out_mtrx =\n",
      " [[0.959 0.    0.    0.    0.   ]\n",
      " [0.043 0.977 0.    0.    0.   ]\n",
      " [0.201 0.752 0.889 0.    0.   ]\n",
      " [0.107 0.504 0.482 0.194 0.   ]\n",
      " [0.948 0.501 0.416 0.063 0.407]]\n"
     ]
    }
   ],
   "source": [
    "'''Testing the example'''\n",
    "\n",
    "# passing argument by object reference\n",
    "in_mtrx = np.random.random((size,size))\n",
    "print('in_mtrx before =\\n',in_mtrx)\n",
    "\n",
    "out_mtrx = get_triangular_matrix(mtrx=in_mtrx) # now out_mtrx is a view of in_mtrx\n",
    "\n",
    "print('in_mtrx after =\\n',in_mtrx)\n",
    "print('out_mtrx =\\n',out_mtrx)"
   ]
  },
  {
   "cell_type": "markdown",
   "metadata": {},
   "source": [
    "### [Example: forward substitution solve](#toc)<a id=\"forward_solve\"></a>\n",
    " + Import module as described [before.](#modules)\n",
    " + `!cat` the `chen_3170/help.py` file to get the source code for the `forward_solve` function. Then copy into the a markdown cell and add a code fence block to display the source code."
   ]
  },
  {
   "cell_type": "code",
   "execution_count": 22,
   "metadata": {},
   "outputs": [
    {
     "name": "stdout",
     "output_type": "stream",
     "text": [
      "Help on function forward_solve in module chen_3170.help:\n",
      "\n",
      "forward_solve(l_mtrx, b_vec, loop_option='use-dot-product', zero_tol=1e-12)\n",
      "    Performs a forward solve with a lower triangular matrix and right side vector.\n",
      "\n",
      "    Parameters\n",
      "    ----------\n",
      "    l_mtrx: numpy.ndarray\n",
      "       Lower triangular matrix.\n",
      "    b_vec:  numpy.ndarray\n",
      "       Right-side vector.\n",
      "    loop_option: string\n",
      "       This is an internal option to demonstrate the usage of an explicit\n",
      "       double loop or an implicit loop using a dot product.\n",
      "    zero_tol: float\n",
      "       Tolerance for non-zero values in the upper triangular portion.\n",
      "\n",
      "    Returns\n",
      "    -------\n",
      "    x_vec: numpy.narray\n",
      "           Solution vector returned.\n",
      "\n",
      "    Examples\n",
      "    --------\n",
      "\n"
     ]
    }
   ],
   "source": [
    "'''Import module'''\n",
    "\n",
    "from chen_3170.help import forward_solve\n",
    "\n",
    "help(forward_solve)"
   ]
  },
  {
   "cell_type": "code",
   "execution_count": 23,
   "metadata": {},
   "outputs": [
    {
     "data": {
      "text/plain": [
       "'View the source code in the notebook'"
      ]
     },
     "execution_count": 23,
     "metadata": {},
     "output_type": "execute_result"
    }
   ],
   "source": [
    "'''View the source code in the notebook'''\n",
    "\n",
    "#!cat \"chen_3170/help.py\" # ugly but works for now"
   ]
  },
  {
   "cell_type": "markdown",
   "metadata": {},
   "source": [
    "```python\n",
    " def forward_solve(l_mtrx, b_vec, loop_option='use-dot-product'):\n",
    "    \"\"\"Performs a forward solve with a lower triangular matrix and right side vector.\n",
    "    \n",
    "    Parameters\n",
    "    ----------\n",
    "    l_mtrx: numpy.ndarray, required\n",
    "            Lower triangular matrix.\n",
    "    b_vec:  numpy.ndarray, required\n",
    "            Right-side vector.\n",
    "    loop_option: string, optional\n",
    "            This is an internal option to demonstrate the usage of an explicit \n",
    "            double loop or an implicit loop using a dot product. \n",
    "            Default: 'use-dot-product'\n",
    "            \n",
    "    Returns\n",
    "    -------\n",
    "    x_vec: numpy.narray\n",
    "           Solution vector returned.\n",
    "           \n",
    "    Examples\n",
    "    --------\n",
    "    \n",
    "    \"\"\"        \n",
    "    import numpy as np\n",
    "    \n",
    "    # sanity test\n",
    "    assert isinstance(l_mtrx,np.ndarray)      # l_mtrx must be np.ndarray\n",
    "    assert l_mtrx.shape[0] == l_mtrx.shape[1],'non-square matrix.' # l_mtrx must be square\n",
    "    assert np.all(np.abs(np.diagonal(l_mtrx)) > 0.0),'zero value on diagonal.'\n",
    "    rows_ids, cols_ids = np.where(np.abs(l_mtrx) > 0) # get i, j of non zero entries\n",
    "    assert np.all(rows_ids >= cols_ids),'non-triangular matrix.' # test i >= j\n",
    "    assert b_vec.shape[0] == l_mtrx.shape[0],'incompatible l_mtrx @ b_vec dimensions'  # b_vec must be compatible to l_mtrx\n",
    "    assert loop_option == 'use-dot-product' or loop_option == 'use-double-loop'\n",
    "    # end of sanity test\n",
    "    \n",
    "    m_rows = l_mtrx.shape[0]\n",
    "    n_cols = m_rows\n",
    "    x_vec = np.zeros(n_cols)\n",
    "    \n",
    "    if loop_option == 'use-dot-product':\n",
    "        \n",
    "        for i in range(m_rows):\n",
    "            sum_lx = np.dot( l_mtrx[i,:i], x_vec[:i] )\n",
    "            #sum_lx = l_mtrx[i,:i] @ x_vec[:i] # matrix-vec mult. alternative to dot product\n",
    "            x_vec[i] = (b_vec[i] - sum_lx)/l_mtrx[i,i]\n",
    "            \n",
    "    elif loop_option == 'use-double-loop':\n",
    "             \n",
    "        for i in range(m_rows):\n",
    "            sum_lx = 0.0\n",
    "            for j in range(i):\n",
    "                sum_lx += l_mtrx[i,j] * x_vec[j]\n",
    "            x_vec[i] = (b_vec[i] - sum_lx)/l_mtrx[i,i]\n",
    "               \n",
    "    else:\n",
    "        assert False, 'not allowed option: %r'%loop_option\n",
    "        \n",
    "    return x_vec  \n",
    "```\n",
    "\n",
    "A lower triangular matrix allows for a forward solve.\n",
    "The algorithm for $\\Lmtrx\\,\\xvec=\\bvec$ is as follows: \n",
    "\n",
    "\\begin{equation*}\n",
    "x_i = \\Bigl(b_i - \\sum\\limits_{j=1}^{i-1} L_{i,j}\\,x_j \\Bigr)\\,L^{-1}_{i,i} \\quad\\ \\forall \\quad\\ i=1,\\ldots,m\n",
    "\\end{equation*}\n",
    "\n",
    "**for $i$ and $j$ with offset 1**. Recall that `NumPy` and `Python` have offset 0 for their sequence data types."
   ]
  },
  {
   "cell_type": "code",
   "execution_count": 24,
   "metadata": {},
   "outputs": [
    {
     "name": "stdout",
     "output_type": "stream",
     "text": [
      "l_mtrx=\n",
      " [[0.845 0.    0.    0.    0.   ]\n",
      " [0.202 0.126 0.    0.    0.   ]\n",
      " [0.54  0.521 0.522 0.    0.   ]\n",
      " [0.379 0.595 0.013 0.622 0.   ]\n",
      " [0.621 0.231 0.634 0.619 0.399]]\n",
      "b_vec= [0.758 0.661 0.76  0.133 0.725]\n",
      "x_vec = [ 0.897  3.806 -3.268 -3.907  9.481]\n"
     ]
    }
   ],
   "source": [
    "'''Testing the example'''\n",
    "\n",
    "import numpy as np\n",
    "\n",
    "size = 5\n",
    "\n",
    "l_mtrx = get_triangular_matrix(ndim=size)\n",
    "\n",
    "b_vec  = np.random.random(size)\n",
    "\n",
    "x_vec  = forward_solve(l_mtrx, b_vec, loop_option='use-double-loop')\n",
    "\n",
    "np.set_printoptions(precision=3)\n",
    "print('l_mtrx=\\n',l_mtrx)\n",
    "print('b_vec=',b_vec)\n",
    "print('x_vec =',x_vec)"
   ]
  },
  {
   "cell_type": "code",
   "execution_count": 25,
   "metadata": {},
   "outputs": [
    {
     "data": {
      "text/plain": [
       "array([ 0.000e+00,  0.000e+00, -3.331e-16,  1.665e-16, -2.220e-16])"
      ]
     },
     "execution_count": 25,
     "metadata": {},
     "output_type": "execute_result"
    }
   ],
   "source": [
    "b_vec - l_mtrx @ x_vec"
   ]
  },
  {
   "cell_type": "code",
   "execution_count": 26,
   "metadata": {},
   "outputs": [],
   "source": [
    "'''Testing the example'''\n",
    "\n",
    "# rectangular matrix fails\n",
    "l_mtrx = np.ones((size,size+1))\n",
    "\n",
    "b_vec  = np.random.random(size)\n",
    "\n",
    "#x_vec = forward_solve(l_mtrx, b_vec) # uncomment to fail"
   ]
  },
  {
   "cell_type": "code",
   "execution_count": 27,
   "metadata": {},
   "outputs": [],
   "source": [
    "'''Testing the example'''\n",
    "\n",
    "# zero element on diagonal matrix fails\n",
    "l_mtrx = get_triangular_matrix(ndim=size)\n",
    "\n",
    "l_mtrx[size-1,size-1] = 0.0\n",
    "\n",
    "b_vec  = np.random.random(size)\n",
    "\n",
    "#x_vec = forward_solve(l_mtrx, b_vec) # uncomment to fail"
   ]
  },
  {
   "cell_type": "markdown",
   "metadata": {},
   "source": [
    "## [Input/Output](#toc)<a id=\"io\"></a>\n",
    "Reading and writing data to persistent storage is needed so that external data is used in a python program or data is saved to disk for future use. This section will list IO operations used in this course. A file is a storage compartment managed by the underlying operating system. Access these files is provided in Python through the built-in function `open` that creates a file object. Using this file object and its methods, data can be transferred in and out of a Python program.\n",
    "The general format of `open` is:\n",
    "```python\n",
    "import io                   # import io module\n",
    "file = open(filename, mode) # create file object\n",
    "file.method_name_example()  # use a file method of some name\n",
    "```"
   ]
  },
  {
   "cell_type": "markdown",
   "metadata": {},
   "source": [
    "### [Read \"text\"](#toc)<a id=\"itext\"></a>"
   ]
  },
  {
   "cell_type": "markdown",
   "metadata": {},
   "source": [
    "<div class=\"alert alert-block alert-info\">\n",
    "This is often referred to as reading formated ASCII data from a file. Simply put, if the file can be displayed with a common text editor, the data is in ASCII format. For example the (partial heptane combustion reaction mechanism) file in the course repository `data/`: [rxn-mech.txt](https://github.com/dpploy/chen-3170/blob/master/data/rxn-mech.txt).\n",
    "<p>\n",
    "Reading text in Python will always result into a string type.\n",
    "</p>\n",
    "</div>"
   ]
  },
  {
   "cell_type": "code",
   "execution_count": 28,
   "metadata": {},
   "outputs": [
    {
     "name": "stdout",
     "output_type": "stream",
     "text": [
      "<class '_io.TextIOWrapper'>\n"
     ]
    }
   ],
   "source": [
    "'''Open file (heptane combustion (incomplete))'''\n",
    "\n",
    "import io\n",
    "\n",
    "# open file in reading mode 'r' (default), text 't' (default)\n",
    "\n",
    "file = open('data/n-heptane-rxn.txt', 'rt')\n",
    "\n",
    "print(type(file))"
   ]
  },
  {
   "cell_type": "code",
   "execution_count": 29,
   "metadata": {},
   "outputs": [
    {
     "data": {
      "text/plain": [
       "'Help on open'"
      ]
     },
     "execution_count": 29,
     "metadata": {},
     "output_type": "execute_result"
    }
   ],
   "source": [
    "'''Help on open'''\n",
    "\n",
    "#help(open)"
   ]
  },
  {
   "cell_type": "code",
   "execution_count": 30,
   "metadata": {
    "scrolled": true
   },
   "outputs": [
    {
     "data": {
      "text/plain": [
       "'Methods of finput = open()'"
      ]
     },
     "execution_count": 30,
     "metadata": {},
     "output_type": "execute_result"
    }
   ],
   "source": [
    "'''Methods of finput = open()'''\n",
    "\n",
    "#dir(file)"
   ]
  },
  {
   "cell_type": "code",
   "execution_count": 31,
   "metadata": {},
   "outputs": [
    {
     "name": "stdout",
     "output_type": "stream",
     "text": [
      "Help on built-in function read:\n",
      "\n",
      "read(size=-1, /) method of _io.TextIOWrapper instance\n",
      "    Read at most size characters from stream.\n",
      "\n",
      "    Read from underlying buffer until we have size characters or we hit EOF.\n",
      "    If size is negative or omitted, read until EOF.\n",
      "\n"
     ]
    }
   ],
   "source": [
    "'''Example of a read method finput.read()'''\n",
    "\n",
    "help(file.read)"
   ]
  },
  {
   "cell_type": "code",
   "execution_count": 32,
   "metadata": {},
   "outputs": [
    {
     "name": "stdout",
     "output_type": "stream",
     "text": [
      "#\n",
      "# N-heptane oxidation mechanism 2006 PIMechEng 220, 991\n",
      "#\n",
      "NC7H16 + OH   <=> C7H15-3 + H2O\n",
      "NC7H16 + HO2  <=> C7H15-3 + H2O2\n",
      "NC7H16 + O2   <=> C7H15-3 + HO2\n",
      "C7H15O2-3     <=> C7H15-3 + O2\n",
      "C7H15O2-3     <=> C7H14OOH3-5\n",
      "C7H14OOH3-5O2 <=> C7H14OOH3-5 + O2\n",
      "C7H14OOH3-5O2 <=> NC7KET35 + OH\n",
      "NC7KET35      <=> C2H5CHO + C2H5COCH2 + OH\n",
      "C7H14OOH3-5   <=> OH + C2H5CHO + C4H8-1\n",
      "C7H15-3       <=> C4H8-1 + NC3H7\n",
      "H2O2 + OH     <=> H2O + HO2\n",
      "H2O2 + O2     <=> 2 HO2\n",
      "2 OH          <=> H2O2\n",
      "H + O2        <=> O + OH\n",
      "O + H2O       <=> 2 OH\n",
      "C2H3 + O2     <=> CH2O + HCO\n",
      "CH2O + OH     <=> HCO + H2O\n",
      "HCO           <=> H + CO\n",
      "HCO + O2      <=> CO + HO2\n",
      "CO + OH       <=> CO2 + H\n",
      "C2H5 + O2     <=> C2H4 + HO2\n",
      "C2H4 + OH     <=> C2H3 + H2O\n",
      "C2H5CO        <=> C2H5 + CO\n",
      "C2H5CHO + OH  <=> C2H5CO + H2O\n",
      "C2H5 + HO2    <=> C2H5O + OH\n",
      "C2H5O         <=> CH3 + CH2O\n",
      "C2H5COCH2     <=> CH2CO + C2H5\n",
      "C4H8-1 + OH   <=> C4H7 + H2O\n",
      "C4H7 + O2     <=> C4H6 + HO2\n",
      "C4H7 + HO2    <=> C4H7O + OH\n",
      "C4H6 + OH     <=> C2H5 + CH2CO\n",
      "CH2CO + OH    <=> CH2O + HCO\n",
      "C4H7O         <=> CH3CHO + C2H3\n",
      "CH3CHO + OH   <=> CH3CO + H2O\n",
      "CH3CO         <=> CH3 + CO\n",
      "HO2           <=> H + O2\n",
      "CH3 + O2      <=> CH3O + O\n",
      "CH3O + O2     <=> CH2O + HO2\n",
      "CH2O + HO2    <=> HCO + H2O2\n",
      "NC3H7         <=> CH3 + C2H4\n"
     ]
    }
   ],
   "source": [
    "'''Let's peek into the file'''\n",
    "\n",
    "!cat 'data/n-heptane-rxn.txt'"
   ]
  },
  {
   "cell_type": "code",
   "execution_count": 33,
   "metadata": {},
   "outputs": [
    {
     "name": "stdout",
     "output_type": "stream",
     "text": [
      "line = #\n",
      "\n",
      "line = # N-heptane oxidation mechanism 2006 PIMechEng 220, 991\n",
      "\n",
      "line = #\n",
      "\n",
      "line = NC7H16 + OH   <=> C7H15-3 + H2O\n",
      "\n",
      "line = NC7H16 + HO2  <=> C7H15-3 + H2O2\n",
      "\n",
      "line = NC7H16 + O2   <=> C7H15-3 + HO2\n",
      "\n",
      "line = C7H15O2-3     <=> C7H15-3 + O2\n",
      "\n",
      "line = C7H15O2-3     <=> C7H14OOH3-5\n",
      "\n",
      "line = C7H14OOH3-5O2 <=> C7H14OOH3-5 + O2\n",
      "\n",
      "line = C7H14OOH3-5O2 <=> NC7KET35 + OH\n",
      "\n",
      "line = NC7KET35      <=> C2H5CHO + C2H5COCH2 + OH\n",
      "\n",
      "line = C7H14OOH3-5   <=> OH + C2H5CHO + C4H8-1\n",
      "\n",
      "line = C7H15-3       <=> C4H8-1 + NC3H7\n",
      "\n",
      "line = H2O2 + OH     <=> H2O + HO2\n",
      "\n",
      "line = H2O2 + O2     <=> 2 HO2\n",
      "\n",
      "line = 2 OH          <=> H2O2\n",
      "\n",
      "line = H + O2        <=> O + OH\n",
      "\n",
      "line = O + H2O       <=> 2 OH\n",
      "\n",
      "line = C2H3 + O2     <=> CH2O + HCO\n",
      "\n",
      "line = CH2O + OH     <=> HCO + H2O\n",
      "\n",
      "line = HCO           <=> H + CO\n",
      "\n",
      "line = HCO + O2      <=> CO + HO2\n",
      "\n",
      "line = CO + OH       <=> CO2 + H\n",
      "\n",
      "line = C2H5 + O2     <=> C2H4 + HO2\n",
      "\n",
      "line = C2H4 + OH     <=> C2H3 + H2O\n",
      "\n",
      "line = C2H5CO        <=> C2H5 + CO\n",
      "\n",
      "line = C2H5CHO + OH  <=> C2H5CO + H2O\n",
      "\n",
      "line = C2H5 + HO2    <=> C2H5O + OH\n",
      "\n",
      "line = C2H5O         <=> CH3 + CH2O\n",
      "\n",
      "line = C2H5COCH2     <=> CH2CO + C2H5\n",
      "\n",
      "line = C4H8-1 + OH   <=> C4H7 + H2O\n",
      "\n",
      "line = C4H7 + O2     <=> C4H6 + HO2\n",
      "\n",
      "line = C4H7 + HO2    <=> C4H7O + OH\n",
      "\n",
      "line = C4H6 + OH     <=> C2H5 + CH2CO\n",
      "\n",
      "line = CH2CO + OH    <=> CH2O + HCO\n",
      "\n",
      "line = C4H7O         <=> CH3CHO + C2H3\n",
      "\n",
      "line = CH3CHO + OH   <=> CH3CO + H2O\n",
      "\n",
      "line = CH3CO         <=> CH3 + CO\n",
      "\n",
      "line = HO2           <=> H + O2\n",
      "\n",
      "line = CH3 + O2      <=> CH3O + O\n",
      "\n",
      "line = CH3O + O2     <=> CH2O + HO2\n",
      "\n",
      "line = CH2O + HO2    <=> HCO + H2O2\n",
      "\n",
      "line = NC3H7         <=> CH3 + C2H4\n",
      "\n"
     ]
    }
   ],
   "source": [
    "'''Minimalist approach'''\n",
    "\n",
    "# do nothing (i.e. no direct method) just iterate on the file\n",
    "\n",
    "for line in file:\n",
    "    print('line =', line) # the line object has an `end of line` character"
   ]
  },
  {
   "cell_type": "code",
   "execution_count": 34,
   "metadata": {},
   "outputs": [
    {
     "name": "stdout",
     "output_type": "stream",
     "text": [
      "<class 'str'>\n",
      "line = NC3H7         <=> CH3 + C2H4\n",
      "\n",
      "chars = ['N', 'C', '3', 'H', '7', ' ', ' ', ' ', ' ', ' ', ' ', ' ', ' ', ' ', '<', '=', '>', ' ', 'C', 'H', '3', ' ', '+', ' ', 'C', '2', 'H', '4', '\\n']\n"
     ]
    }
   ],
   "source": [
    "'''Artifact in reading text'''\n",
    "\n",
    "print(type(line))\n",
    "print('line =',line)\n",
    "print('chars =', [i for i in line]) # inspect character by character"
   ]
  },
  {
   "cell_type": "code",
   "execution_count": 35,
   "metadata": {},
   "outputs": [
    {
     "name": "stdout",
     "output_type": "stream",
     "text": [
      "reaction = ['NC3H7         <=> CH3 + C2H4']\n",
      "chars = ['N', 'C', '3', 'H', '7', ' ', ' ', ' ', ' ', ' ', ' ', ' ', ' ', ' ', '<', '=', '>', ' ', 'C', 'H', '3', ' ', '+', ' ', 'C', '2', 'H', '4']\n"
     ]
    }
   ],
   "source": [
    "'''Removing artifact'''\n",
    "\n",
    "reactions = list() # empty list\n",
    "\n",
    "reactions.append(line.strip()) # leading and trailing spaces; remove end of line special character \\n\n",
    "print('reaction =', reactions) \n",
    "print('chars =', [i for i in reactions[0]])"
   ]
  },
  {
   "cell_type": "code",
   "execution_count": 36,
   "metadata": {},
   "outputs": [
    {
     "name": "stdout",
     "output_type": "stream",
     "text": [
      "split =  ['NC3H7         ', '=> CH3 + C2H4']\n",
      "left side = NC3H7         \n",
      "split = ['NC3H7         <=', ' CH3 + C2H4']\n",
      "right side =  CH3 + C2H4\n"
     ]
    }
   ],
   "source": [
    "'''Manipulate reactions'''\n",
    "\n",
    "print('split = ',reactions[0].split('<') )\n",
    "\n",
    "left = reactions[0].split('<')[0] # reactants\n",
    "print('left side =',left)\n",
    "\n",
    "print('split =',reactions[0].split('>'))\n",
    "\n",
    "right = reactions[0].split('>')[1] # products\n",
    "print('right side =',right)"
   ]
  },
  {
   "cell_type": "code",
   "execution_count": 37,
   "metadata": {},
   "outputs": [
    {
     "name": "stdout",
     "output_type": "stream",
     "text": [
      "species = ['NC3H7         ', ' CH3 ', ' C2H4']\n"
     ]
    }
   ],
   "source": [
    "'''Manipulate species'''\n",
    "\n",
    "species = left.split('+') + right.split('+')\n",
    "print('species =',species)"
   ]
  },
  {
   "cell_type": "code",
   "execution_count": 38,
   "metadata": {},
   "outputs": [
    {
     "data": {
      "text/plain": [
       "['NC3H7', 'CH3', 'C2H4']"
      ]
     },
     "execution_count": 38,
     "metadata": {},
     "output_type": "execute_result"
    }
   ],
   "source": [
    "'''Clean up species'''\n",
    "    \n",
    "[spc.strip() for spc in species]"
   ]
  },
  {
   "cell_type": "code",
   "execution_count": 39,
   "metadata": {},
   "outputs": [],
   "source": [
    "'''Close the file'''\n",
    "\n",
    "file.close() # close the file"
   ]
  },
  {
   "cell_type": "markdown",
   "metadata": {},
   "source": [
    "### [Read \"data\"](#toc)<a id=\"idata\"></a>\n",
    "\n",
    "Please refer to Notebooks [11](https://nbviewer.org/github/dpploy/chen-3170/blob/master/notebooks/11-arrhenius-rate-constant-data-fitting.ipynb#ed10) and [12](https://nbviewer.org/github/dpploy/chen-3170/blob/master/notebooks/12-lsq-fit-with-fourier-basis-functions.ipynb#data) for examples on how to input (*read*) data."
   ]
  },
  {
   "cell_type": "markdown",
   "metadata": {},
   "source": [
    "## [URL Image Import](#toc)<a id=\"url\"></a>\n",
    "Images are used in this course for motivating students to manipulate `numpy` arrays; this must be done in double precision. In the past it was just a matter of reading an image with `Matplotlib` by specifying a URL as opposed to a file name. However the URL option has been deprecated and other packages need to be used to import an image directly from a URL site. All images in this course are provided with the course repository (`/images`) and are loaded as described in notebooks [03](https://nbviewer.org/github/dpploy/chen-3170/blob/master/notebooks/03-arrays.ipynb) and [04](https://nbviewer.org/github/dpploy/chen-3170/blob/master/notebooks/04-arrays-operations.ipynb). However here is an alternative to import the same images directly from the course repository URL."
   ]
  },
  {
   "cell_type": "code",
   "execution_count": 40,
   "metadata": {},
   "outputs": [
    {
     "data": {
      "image/png": "[encoded data removed]",
      "text/plain": [
       "<Figure size 2000x400 with 1 Axes>"
      ]
     },
     "metadata": {},
     "output_type": "display_data"
    },
    {
     "name": "stdout",
     "output_type": "stream",
     "text": [
      "\n",
      "type = <class 'numpy.ndarray'>\n",
      "shape = (300, 400, 3)\n",
      "dtype = float64\n",
      "min = 0.0\n",
      "max = 1.0\n"
     ]
    }
   ],
   "source": [
    "from matplotlib import pyplot as plt     # import the pyplot function of the matplotlib package\n",
    "from urllib.request import urlopen\n",
    "from PIL import Image\n",
    "import numpy as np\n",
    "\n",
    "plt.rcParams['figure.figsize'] = [20, 4] # extend the figure size on screen output\n",
    "url = 'https://raw.githubusercontent.com/dpploy/chen-3170/master/notebooks/images/glacier.png'\n",
    "img_block = np.array(Image.open(urlopen(url)))\n",
    "\n",
    "# after the fact; use double precision and normalization per channel: \n",
    "img_block = img_block.astype(float)\n",
    "img_block[:,:,0] /= img_block[:,:,0].max()\n",
    "img_block[:,:,1] /= img_block[:,:,1].max()\n",
    "img_block[:,:,2] /= img_block[:,:,2].max()\n",
    "\n",
    "plt.figure(1)                            # create a figure placeholder\n",
    "plt.imshow(img_block)\n",
    "#plt.axis('off')\n",
    "plt.show()\n",
    "print('')\n",
    "\n",
    "print('type =', type(img_block))\n",
    "print('shape =', img_block.shape)\n",
    "print('dtype =', img_block.dtype)\n",
    "print('min =', img_block.min())\n",
    "print('max =', img_block.max())"
   ]
  },
  {
   "cell_type": "markdown",
   "metadata": {},
   "source": [
    "If the image will be used as a matrix for linear algebra operations, then make sure the image is in gray scale and the corresponding `numpy` array data type is double precision `float`."
   ]
  },
  {
   "cell_type": "code",
   "execution_count": 41,
   "metadata": {},
   "outputs": [
    {
     "data": {
      "image/png": "[encoded data removed]",
      "text/plain": [
       "<Figure size 2000x400 with 1 Axes>"
      ]
     },
     "metadata": {},
     "output_type": "display_data"
    },
    {
     "name": "stdout",
     "output_type": "stream",
     "text": [
      "\n",
      "type = <class 'numpy.ndarray'>\n",
      "shape = (500, 500)\n",
      "dtype = float64\n",
      "min = 0.07048458149779736\n",
      "max = 1.0\n"
     ]
    }
   ],
   "source": [
    "from matplotlib import pyplot as plt     # import the pyplot function of the matplotlib package\n",
    "from urllib.request import urlopen\n",
    "from PIL import Image\n",
    "\n",
    "plt.rcParams['figure.figsize'] = [20, 4] # extend the figure size on screen output\n",
    "url = 'https://raw.githubusercontent.com/dpploy/chen-3170/master/notebooks/images/cermet.png'\n",
    "img_mtrx = np.array(Image.open(urlopen(url)))\n",
    "\n",
    "img_mtrx = img_mtrx.astype(float)\n",
    "# normalize\n",
    "img_mtrx /= img_mtrx.max()\n",
    "\n",
    "plt.figure(1)                            # create a figure placeholder\n",
    "plt.imshow(img_mtrx, cmap='gray')\n",
    "plt.axis('off')\n",
    "plt.show()\n",
    "print('')\n",
    "\n",
    "print('type =', type(img_mtrx))\n",
    "print('shape =', img_mtrx.shape)\n",
    "print('dtype =', img_mtrx.dtype)\n",
    "print('min =', img_mtrx.min())\n",
    "print('max =', img_mtrx.max())"
   ]
  }
 ],
 "metadata": {
  "kernelspec": {
   "display_name": "Python 3 (ipykernel)",
   "language": "python",
   "name": "python3"
  },
  "language_info": {
   "codemirror_mode": {
    "name": "ipython",
    "version": 3
   },
   "file_extension": ".py",
   "mimetype": "text/x-python",
   "name": "python",
   "nbconvert_exporter": "python",
   "pygments_lexer": "ipython3",
   "version": "3.12.3"
  },
  "latex_envs": {
   "LaTeX_envs_menu_present": true,
   "autoclose": false,
   "autocomplete": true,
   "bibliofile": "biblio.bib",
   "cite_by": "apalike",
   "current_citInitial": 1,
   "eqLabelWithNumbers": true,
   "eqNumInitial": 1,
   "hotkeys": {
    "equation": "Ctrl-E",
    "itemize": "Ctrl-I"
   },
   "labels_anchors": false,
   "latex_user_defs": false,
   "report_style_numbering": false,
   "user_envs_cfg": false
  }
 },
 "nbformat": 4,
 "nbformat_minor": 4
}
