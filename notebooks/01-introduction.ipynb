{
 "cells": [
  {
   "cell_type": "markdown",
   "metadata": {},
   "source": [
    "ChEn-3170: Computational Methods in Chemical Engineering Spring 2024 UMass Lowell; Prof. V. F. de Almeida **16Jan24**\n",
    "\n",
    "# 01. Introduction to Jupyter Notebooks and Python"
   ]
  },
  {
   "cell_type": "markdown",
   "metadata": {},
   "source": [
    "---\n",
    "\n",
    "## Table of Contents<a id=\"toc\"></a>\n",
    "* [Objectives](#obj)\n",
    "* [Inspiration](#nasa)\n",
    "* [What is a Jupyter Notebook?](#whatisit)\n",
    "* [Access to a Jupyter Notebook server](#access)\n",
    "* [Jupyter Notebook cell](#jnbcell)\n",
    "    + [Markdown text](#markdown)\n",
    "    + [Execute Python code](#execute)\n",
    "    + [Inspect Python variables](#variables)\n",
    "* [Additional help](#umllinux)\n",
    "---"
   ]
  },
  {
   "cell_type": "markdown",
   "metadata": {},
   "source": [
    "## [Objectives](#toc)<a id=\"obj\"></a>\n",
    "\n",
    " + Outline how Jupyter electronic notebooks and hand-written notes will be used to present the content of this course.\n",
    " + Show the structure of the notebooks used in this course.\n",
    " + Provide additional resources for help."
   ]
  },
  {
   "cell_type": "markdown",
   "metadata": {},
   "source": [
    "## [Inspiration](#toc)<a id=\"nasa\"></a>\n",
    "*Lines of python code*:\n",
    " 1. [We are NASA (\"men in the moon\"), 1:18 min](https://www.youtube.com/watch?v=WeA7edXsU40&app=desktop) "
   ]
  },
  {
   "cell_type": "markdown",
   "metadata": {},
   "source": [
    "## [What is a Jupyter Notebook?](#toc)<a id=\"whatisit\"></a>\n",
    "A web application for executing and presenting code, results, and discussion (analysis) all in one place. There are many sources to learn additional information from, such as:\n",
    "\n",
    " 1. [Visit the website](http://jupyter.org/) \n",
    " 1. [Read the basic documentation](https://jupyter-notebook.readthedocs.io/en/stable/index.html)\n",
    " 1. [Additional documentation](https://jupyter.brynmawr.edu/services/public/dblank/Jupyter%20Notebook%20Users%20Manual.ipynb)\n",
    " 1. [Try examples first](https://jupyter-notebook.readthedocs.io/en/stable/examples/Notebook/examples_index.html)\n",
    " \n",
    "It is a modern way to do data science: [Recent Journal Article in Nature](https://www.nature.com/articles/d41586-018-07196-1)"
   ]
  },
  {
   "cell_type": "markdown",
   "metadata": {},
   "source": [
    "## [Access to a Jupyter Notebook Server](#toc)<a id=\"access\"></a>\n",
    " 1. <font color=\"red\"><b>Preferred way:</b></font> Install [Anaconda](https://docs.anaconda.com/anaconda/install/#) (free download) and use (Mac OS X and Windows) the Python 3 tarball. After install, use [Anaconda-Navigator](https://docs.anaconda.com/anaconda/navigator/) to start a Jupyter Notebook server and navigate to your local version of the course repository. For Linux OS and other Linux based OS (Google Chrome OS), please see online instructions.\n",
    "    + If you have `Anaconda` installed, make sure it is up to date, that is, open an `Anaconda` powershell and run the command\n",
    "       - `conda update --all`\n",
    "    + After install, use [Anaconda-Navigator](https://docs.anaconda.com/anaconda/navigator/) to start a Jupyter Notebook server (more information is available in this course [repository](https://github.com/dpploy/chen-3170)).\n",
    " \n",
    " 1. Use the [UMass Lowell vLabs](https://www.uml.edu/IT/Services/vLabs/) **Learning Commons** machine. That is, download the **VMWare Horizon Client** and install on your computer. Login with your academic credentials. **Anaconda is pre-installed**, use the Anaconda-Navigator to start the Jupyter Notebook application. Here the virtual machine (Windows 10/11) needs to be created and it may take some time and, similarly to **Binder** (below), your work needs to be saved in `OneDrive` to be preserved after you quit the virtual machine.\n",
    "  \n",
    " 1. Access [this repository](https://github.com/dpploy/chen-3170) and use its **Binder** deployment of the course repository. Binder creates a virtual machine on the cloud and it may take time. Also, you work needs to be saved back to your local machine periodically, else it will be deleted when the virtual machine is destroyed. The Binder virtual machine times out after a period of inactivity and any unsaved work is lost."
   ]
  },
  {
   "cell_type": "markdown",
   "metadata": {},
   "source": [
    "## [Jupyter Notebook Extensions](#toc)<a id=\"ext\"></a>\n",
    "Extensions allow for various customizations while manipulating a Jupyter notebook. These can be handy as the notebooks become longer. Here are some basic install instructions.\n",
    "1. Mac OS\n",
    "   + Open a terminal (should be a conda \"base\" environment) and run the command:\n",
    "     - `conda install -c conda-forge jupyter_contrib_nbextensions`\n",
    "1. Windows\n",
    "   + Open an Anaconda Powershell prompt and run the command:\n",
    "     - `conda install -c conda-forge jupyter_contrib_nbextensions`\n",
    "1. Linux\n",
    "   + Under the python environment one is running the python system under, run the command:\n",
    "     - `jupyter contrib nbextension install --sys-prefix`\n",
    "     \n",
    "After the foregoing is accomplished, then use the `Nbextensions` tab in the Jupyter notebook interface for selecting specific extensions. In addition, search online for Jupyter notebook extensions and configuration."
   ]
  },
  {
   "cell_type": "markdown",
   "metadata": {},
   "source": [
    "## [Access to Course Jupyter Notebooks](#toc)<a id=\"access\"></a>\n",
    " 1. Download a ZIP file from the repository in your local machine and unzip it. You can then navigate to the notebooks using `Anaconda-Navigator` and the `Jupyter Notebook` server application. The issue with this approach is that the course repository changes during the semester and you will have to download periodic updates and refresh your local repository notes.\n",
    " \n",
    " 1. Access [the course repository](https://github.com/dpploy/chen-3170) and use its **Binder** deployment of a Jupyter Notebook server. Here you will always have to save your work on your local machine because **Binder** is a free cloud service and everything created on the cloud is lost after your virtual machine is shutdown.\n",
    " \n",
    " 1. <font color=\"red\"><b>Preferred way:</b></font> Use **Open with GitHub Desktop** when you download the repository to your local machine. <font color=\"red\">The issue here is that you will have to create a `GitHub` account</font> and install the `GitHub Desktop` application on your local machine. Once this is done, the desktop app will keep the course notes in sync every time you open the course note repository in the GitHub Desktop."
   ]
  },
  {
   "cell_type": "markdown",
   "metadata": {},
   "source": [
    "## [Course Handwritten Notes](#toc)<a id=\"notes\"></a>\n",
    "\n",
    "+ This course has handwritten notes in addition to Jupyter Notebooks.\n",
    "+ They will appear with a link to Microsoft OneNote *e.g.*: [OneNote ChEn-3170-outline](https://studentuml-my.sharepoint.com/:o:/g/personal/valmor_dealmeida_uml_edu/Er8e68nuxMZJuYvH8HNIfhIBs1coZ9BSRhleV37bU4lHfA?e=K1LKhz).\n",
    "+ How to print a PDF file of course notes: On a **Windows OS machine**, open the `OneNote` file on the *desktop app* and print to a file the entire *Notebook*.\n",
    "+ If you don't have a Windows OS machine, use the UMass Lowell **vLabs** client to access a virtual Windows 10 machine, create your PDF file and save it to `OneDrive`."
   ]
  },
  {
   "cell_type": "markdown",
   "metadata": {},
   "source": [
    "## [Jupyter Notebook cell: the basic concept](#toc)<a id=\"jnbcell\"></a>\n",
    "\n",
    "### [Writing your document (`this cell`)](#toc)<a id=\"markdown\"></a>\n",
    "Have you seen this formula \n",
    "\n",
    "\\begin{equation*}\n",
    "k = k_0 \\, e^{-\\frac{E_a}{RT}}\n",
    "\\end{equation*}\n",
    "\n",
    "before?\n",
    "\n",
    "How about typesetting formula in text: $\\ln k = \\ln k_0 - \\frac{E_a}{RT}$? How was this done?\n",
    "\n",
    "All of this text was written in Jupyter Markdown markup language and rendered via executing **this cell**. If you double click on this cell, you will see the Markdown source text. Then execute the menu button `Run` on the cell to render it again."
   ]
  },
  {
   "cell_type": "markdown",
   "metadata": {},
   "source": [
    "### [Markdown links](#toc)\n",
    "[Jupyter Markdown markup language](https://jupyter-notebook.readthedocs.io/en/stable/examples/Notebook/Working%20With%20Markdown%20Cells.html).\n",
    "\n",
    "[More on Jupyter Markdown markup language](https://sourceforge.net/p/jupiter/wiki/markdown_syntax/).\n",
    "\n",
    "[Additional on Jupyter Markdown markup language](http://assemble.io/docs/Cheatsheet-Markdown.html).\n",
    "\n",
    "[Useful extensions and colored boxes](https://www.ibm.com/support/knowledgecenter/en/SSQNUZ_1.1.0/dsx/markd-jupyter.html)\n",
    "\n",
    "[Markdown project (see markdown render tool)](https://daringfireball.net/projects/markdown/)\n",
    "\n",
    "NB: you can export the notebook to different formats (Menu Bar: file -> Download as ->)."
   ]
  },
  {
   "cell_type": "markdown",
   "metadata": {},
   "source": [
    "### Markdown your code (*fenced code block with language highlighting*; double click here)\n",
    "\n",
    "Here is a plotting example from the [Matplotlib site](https://matplotlib.org/index.html):\n",
    "\n",
    " ```python\n",
    " import matplotlib.pyplot as plt  # this is an import of the package\n",
    " plt.plot([1,2,3,4])\n",
    " plt.ylabel('some numbers')\n",
    " plt.show()\n",
    " ```\n",
    "this Python code will be executed in the next cell, the last line of source code will display the x-y plot."
   ]
  },
  {
   "cell_type": "markdown",
   "metadata": {},
   "source": [
    "### [Execute your Python code](#toc)<a id=\"execute\"></a>"
   ]
  },
  {
   "cell_type": "code",
   "execution_count": 1,
   "metadata": {},
   "outputs": [
    {
     "data": {
      "image/png": "[encoded data removed]",
      "text/plain": [
       "<Figure size 640x480 with 1 Axes>"
      ]
     },
     "metadata": {},
     "output_type": "display_data"
    }
   ],
   "source": [
    "import matplotlib.pyplot as plt\n",
    "#%matplotlib inline\n",
    "\n",
    "plt.plot([1,2,3,4])\n",
    "plt.ylabel('some numbers')\n",
    "plt.show()"
   ]
  },
  {
   "cell_type": "markdown",
   "metadata": {},
   "source": [
    "Let's use another code plotting script:\n",
    "\n",
    "```python\n",
    "import numpy as np\n",
    "import matplotlib.pyplot as plt\n",
    "\n",
    "def f(t):\n",
    "    return np.exp(-t) * np.cos(2*np.pi*t)\n",
    "\n",
    "t1 = np.arange(0.0, 5.0, 0.1)\n",
    "t2 = np.arange(0.0, 5.0, 0.02)\n",
    "\n",
    "plt.figure(1)\n",
    "plt.subplot(211)\n",
    "plt.plot(t1, f(t1), 'bo', t2, f(t2), 'k')\n",
    "\n",
    "plt.subplot(212)\n",
    "plt.plot(t2, np.cos(2*np.pi*t2), 'r--')\n",
    "plt.show()\n",
    "```\n",
    "and execute the next cell to obtain the plot below."
   ]
  },
  {
   "cell_type": "code",
   "execution_count": 2,
   "metadata": {
    "code_folding": []
   },
   "outputs": [
    {
     "data": {
      "image/png": "[encoded data removed]",
      "text/plain": [
       "<Figure size 640x480 with 2 Axes>"
      ]
     },
     "metadata": {},
     "output_type": "display_data"
    }
   ],
   "source": [
    "'''\n",
    "This is an example of two stacked plots using\n",
    "the subplot() method of the pyplot package.\n",
    "'''\n",
    "import numpy as np               # import the numpy package for arrays computation\n",
    "import matplotlib.pyplot as plt  # import the matplotlib package for plotting\n",
    "#%matplotlib inline\n",
    "\n",
    "def f(t):\n",
    "    '''\n",
    "    Define a decaying cosine function\n",
    "    '''\n",
    "    return np.exp(-t) * np.cos(2*np.pi*t)\n",
    "\n",
    "t1 = np.arange(0.0, 5.0, 0.1)\n",
    "t2 = np.arange(0.0, 5.0, 0.02)\n",
    "\n",
    "plt.figure(1)\n",
    "\n",
    "plt.subplot(211)\n",
    "plt.plot(t1, f(t1), 'bo', t2, f(t2), 'k')\n",
    "\n",
    "plt.subplot(212)\n",
    "plt.plot(t2, np.cos(2*np.pi*t2), 'r--')\n",
    "plt.show()"
   ]
  },
  {
   "cell_type": "markdown",
   "metadata": {},
   "source": [
    "### [Inspecting Python variables](#toc)<a id=\"variables\"></a>\n",
    "#### `t1` is a [NumPy](http://www.numpy.org/) `ndarray` (n-dimensional array)"
   ]
  },
  {
   "cell_type": "code",
   "execution_count": 3,
   "metadata": {},
   "outputs": [
    {
     "name": "stdout",
     "output_type": "stream",
     "text": [
      "<class 'numpy.ndarray'>\n",
      "t1 =  [0.  0.1 0.2 0.3 0.4 0.5 0.6 0.7 0.8 0.9 1.  1.1 1.2 1.3 1.4 1.5 1.6 1.7\n",
      " 1.8 1.9 2.  2.1 2.2 2.3 2.4 2.5 2.6 2.7 2.8 2.9 3.  3.1 3.2 3.3 3.4 3.5\n",
      " 3.6 3.7 3.8 3.9 4.  4.1 4.2 4.3 4.4 4.5 4.6 4.7 4.8 4.9]\n"
     ]
    }
   ],
   "source": [
    "print(type(t1))\n",
    "print('t1 = ',t1)"
   ]
  },
  {
   "cell_type": "markdown",
   "metadata": {},
   "source": [
    "#### Use the help() command on the `f` function to access its _docstring_"
   ]
  },
  {
   "cell_type": "code",
   "execution_count": 4,
   "metadata": {},
   "outputs": [
    {
     "name": "stdout",
     "output_type": "stream",
     "text": [
      "Help on function f in module __main__:\n",
      "\n",
      "f(t)\n",
      "    Define a decaying cosine function\n",
      "\n"
     ]
    }
   ],
   "source": [
    "help(f)"
   ]
  },
  {
   "cell_type": "markdown",
   "metadata": {},
   "source": [
    "#### What does this `plt.subplot(211)` mean? Use help to access documentation if any:"
   ]
  },
  {
   "cell_type": "code",
   "execution_count": 5,
   "metadata": {
    "scrolled": true
   },
   "outputs": [],
   "source": [
    "#help(plt.subplot)"
   ]
  },
  {
   "cell_type": "markdown",
   "metadata": {},
   "source": [
    "## [*Commercial:* ...](#toc)\n",
    "## Interested in Python development? Join us at [Cortix](https://cortix.org) for collaboratory coding on GitHub.\n",
    "\n",
    "<img  width=\"600\" src=\"images/cortix-cover.png\" title=\"Cortix\">\n",
    "\n",
    "## [UML Linux Group](https://github.com/UML-Linux-Club) meetings on Fridays, online and Southwick Hall 202, 5 pm. Join the UML Linux google group; email: uml-linux@googlegroups.com.<a id=\"umllinux\"></a>\n"
   ]
  }
 ],
 "metadata": {
  "kernelspec": {
   "display_name": "Python 3 (ipykernel)",
   "language": "python",
   "name": "python3"
  },
  "language_info": {
   "codemirror_mode": {
    "name": "ipython",
    "version": 3
   },
   "file_extension": ".py",
   "mimetype": "text/x-python",
   "name": "python",
   "nbconvert_exporter": "python",
   "pygments_lexer": "ipython3",
   "version": "3.11.8"
  },
  "latex_envs": {
   "LaTeX_envs_menu_present": true,
   "autoclose": false,
   "autocomplete": true,
   "bibliofile": "biblio.bib",
   "cite_by": "apalike",
   "current_citInitial": 1,
   "eqLabelWithNumbers": true,
   "eqNumInitial": 1,
   "hotkeys": {
    "equation": "Ctrl-E",
    "itemize": "Ctrl-I"
   },
   "labels_anchors": false,
   "latex_user_defs": false,
   "report_style_numbering": false,
   "user_envs_cfg": false
  },
  "toc": {
   "base_numbering": 1,
   "nav_menu": {},
   "number_sections": true,
   "sideBar": true,
   "skip_h1_title": false,
   "title_cell": "Table of Contents",
   "title_sidebar": "Contents",
   "toc_cell": false,
   "toc_position": {
    "height": "calc(100% - 180px)",
    "left": "10px",
    "top": "150px",
    "width": "220.75px"
   },
   "toc_section_display": true,
   "toc_window_display": false
  }
 },
 "nbformat": 4,
 "nbformat_minor": 4
}
