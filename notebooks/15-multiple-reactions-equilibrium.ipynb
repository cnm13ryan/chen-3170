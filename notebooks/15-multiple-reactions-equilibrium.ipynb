{
 "cells": [
  {
   "cell_type": "markdown",
   "metadata": {},
   "source": [
    "ChEn-3170: Computational Methods in Chemical Engineering Spring 2024 UMass Lowell; Prof. V. F. de Almeida **26Mar24**\n",
    "\n",
    "# 15. Multiple Reactions at Equilibrium\n",
    "$  \n",
    "  \\newcommand{\\Amtrx}{\\boldsymbol{\\mathsf{A}}}\n",
    "  \\newcommand{\\Bmtrx}{\\boldsymbol{\\mathsf{B}}}\n",
    "  \\newcommand{\\Mmtrx}{\\boldsymbol{\\mathsf{M}}}\n",
    "  \\newcommand{\\Imtrx}{\\boldsymbol{\\mathsf{I}}}\n",
    "  \\newcommand{\\Pmtrx}{\\boldsymbol{\\mathsf{P}}}\n",
    "  \\newcommand{\\Lmtrx}{\\boldsymbol{\\mathsf{L}}}\n",
    "  \\newcommand{\\Umtrx}{\\boldsymbol{\\mathsf{U}}}\n",
    "  \\newcommand{\\Jmtrx}{\\boldsymbol{\\mathsf{J}}}\n",
    "  \\newcommand{\\Smtrx}{\\boldsymbol{\\mathsf{S}}}\n",
    "  \\newcommand{\\Xmtrx}{\\boldsymbol{\\mathsf{X}}}\n",
    "  \\newcommand{\\Kmtrx}{\\boldsymbol{\\mathsf{K}}}\n",
    "  \\newcommand{\\xvec}{\\boldsymbol{\\mathsf{x}}}\n",
    "  \\newcommand{\\avec}{\\boldsymbol{\\mathsf{a}}}\n",
    "  \\newcommand{\\bvec}{\\boldsymbol{\\mathsf{b}}}\n",
    "  \\newcommand{\\cvec}{\\boldsymbol{\\mathsf{c}}}\n",
    "  \\newcommand{\\rvec}{\\boldsymbol{\\mathsf{r}}}\n",
    "  \\newcommand{\\mvec}{\\boldsymbol{\\mathsf{m}}}\n",
    "  \\newcommand{\\gvec}{\\boldsymbol{\\mathsf{g}}}\n",
    "  \\newcommand{\\zerovec}{\\boldsymbol{\\mathsf{0}}}\n",
    "  \\newcommand{\\norm}[1]{\\bigl\\lVert{#1}\\bigr\\rVert}\n",
    "  \\newcommand{\\abs}[1]{\\left\\lvert{#1}\\right\\rvert}\n",
    "  \\newcommand{\\transpose}[1]{{#1}^\\top}\n",
    "  \\DeclareMathOperator{\\rank}{rank}\n",
    "  \\DeclareMathOperator{\\gradx}{\\nabla\\!_{\\xvec}}\n",
    "  \\DeclareMathOperator{\\partialx}{\\partial_\\xvec}\n",
    "  \\newcommand{\\Kcal}{\\mathcal{K}}\n",
    "  \\newcommand{\\Kcalvec}{\\boldsymbol{\\mathcal{K}}}\n",
    "  \\newcommand{\\epsvec}{\\boldsymbol{\\varepsilon}}\n",
    "$"
   ]
  },
  {
   "cell_type": "markdown",
   "metadata": {},
   "source": [
    "---\n",
    "## Table of Contents<a id=\"toc\"></a>\n",
    "* [Introduction](#intro)\n",
    "* [Algorithm](#algo)\n",
    "* [Input Data](#idata)\n",
    "* [Plot Equilibrium Vector Function](#eqfunc)\n",
    "* [Solve for Equilibrium](#solve)\n",
    "* [Plot Equilibrium Point](#eqpt)\n",
    "---"
   ]
  },
  {
   "cell_type": "markdown",
   "metadata": {},
   "source": [
    "## [Introduction](#toc)<a id=\"intro\"></a>\n",
    "In the previous [notebook](https://nbviewer.jupyter.org/github/dpploy/chen-3170/blob/master/notebooks/14-single-reaction-equilibrium.ipynb), a general method for finding equilibrium molar fractions for a single chemical reaction in equilibrium was developed (any number of chemical species and any stoichiometry). Here we further extend the method for a reaction mechanism involving **multiple reactions**.\n",
    "Newton's method for computing roots of multiple non-linear equations, $\\Kcalvec\\bigl(\\xvec(\\widehat{\\epsvec})\\bigr)=\\zerovec$, is described in the course notes OneNote [ChEn-3170-nonlinalg-c](https://studentuml-my.sharepoint.com/:o:/g/personal/valmor_dealmeida_uml_edu/EjmPit7CEwxEsxs2ILBN8eIBz_jou6_NPsLzTLPtOP8UpA?e=LWitRY).\n",
    "\n",
    "In the case of multiple reactions we write the equilibrium functions (vector-valued function) as a vector with components\n",
    "\n",
    "\\begin{equation*}\n",
    "\\Kcal_i(\\xvec)= K_{x,i} - \\prod\\limits_{j=1}^N\\, x_j^{S_{i,j}} = \\zerovec,\n",
    "\\end{equation*}\n",
    "\n",
    "where $i$ is the index of each reaction."
   ]
  },
  {
   "cell_type": "code",
   "execution_count": 1,
   "metadata": {
    "ExecuteTime": {
     "end_time": "2022-04-06T20:43:33.423131Z",
     "start_time": "2022-04-06T20:43:33.418980Z"
    },
    "code_folding": [
     2
    ]
   },
   "outputs": [],
   "source": [
    "'''Function: Equilibrium function vector'''\n",
    "\n",
    "def keq_function(x_vec, keq_cte_vec, stoic_mtrx):\n",
    "    \n",
    "    n_reactions = keq_cte_vec.size\n",
    "    n_species   = x_vec.size\n",
    "    \n",
    "    # Sanity check\n",
    "    assert n_reactions == stoic_mtrx.shape[0]\n",
    "    assert n_species   == stoic_mtrx.shape[1]\n",
    "    \n",
    "    prod_vec = np.ones(n_reactions, dtype=np.float64)\n",
    "    \n",
    "    for i in range(n_reactions):\n",
    "        prod_vec[i] = np.prod(x_vec ** stoic_mtrx[i,:])\n",
    "       \n",
    "    keq_vec = keq_cte_vec - prod_vec\n",
    "    \n",
    "    return keq_vec"
   ]
  },
  {
   "cell_type": "markdown",
   "metadata": {},
   "source": [
    "The molar fractions vector is a function of the normalized extent of reactions vector\n",
    "\n",
    "\\begin{equation*}\n",
    "\\xvec(\\widehat{\\epsvec}) = \\frac{\\xvec^{(0)} + \\Smtrx^\\top\\widehat{\\epsvec}\\,}{1+\\sum\\limits_j (\\Smtrx^\\top\\widehat{\\epsvec})_j} ,\n",
    "\\end{equation*}\n",
    "\n",
    "where $\\xvec^{(0)}$ is the vector of initial molar fractions (or reference)."
   ]
  },
  {
   "cell_type": "code",
   "execution_count": 2,
   "metadata": {
    "ExecuteTime": {
     "end_time": "2022-04-06T20:43:33.433139Z",
     "start_time": "2022-04-06T20:43:33.429624Z"
    },
    "code_folding": [
     2
    ]
   },
   "outputs": [],
   "source": [
    "'''Function: Molar fractions function'''\n",
    "\n",
    "def molar_fractions(ext_hat_vec, x_vec_0, stoic_mtrx):\n",
    "    \n",
    "    # Sanity check\n",
    "    assert abs(x_vec_0.sum()-1.0) <= 1e-10\n",
    "    assert abs(1.0 + (stoic_mtrx.transpose()@ext_hat_vec).sum()) >= 1e-8\n",
    "    \n",
    "    x_vec = ( x_vec_0 + stoic_mtrx.transpose()@ext_hat_vec ) / \\\n",
    "            ( 1.0 + (stoic_mtrx.transpose()@ext_hat_vec).sum() )\n",
    "    \n",
    "    return x_vec"
   ]
  },
  {
   "cell_type": "markdown",
   "metadata": {},
   "source": [
    "The usage of Newton's method to compute an equilibrium molar fraction solution vector requires the value of \n",
    "$\\Kcalvec\\bigl(\\xvec(\\widehat{\\epsvec})\\bigr)$ at different values of $\\widehat{\\epsvec}$ and the total derivative\n",
    "\n",
    "\\begin{equation*}\n",
    "\\partial_{\\widehat{\\epsvec}} \\Kcalvec\\bigl(\\xvec(\\widehat{\\epsvec})\\bigr) = \n",
    "                       \\partialx\\Kcalvec \\, \\partial_{\\widehat{\\epsvec}}\\xvec ,\n",
    "\\end{equation*}\n",
    "\n",
    "which is matrix product. The molar fraction gradient is computed as a product of three matrices\n",
    "\n",
    "\\begin{equation*}\n",
    " \\partialx\\Kcalvec = - \\Kmtrx\\,\\Smtrx\\,\\Xmtrx^{-1} ,\n",
    "\\end{equation*}\n",
    "\n",
    "that is,\n",
    "\n",
    "\\begin{equation*}\n",
    " \\Kmtrx = \n",
    "  \\begin{pmatrix}\n",
    "   K_{x,1} & 0       & \\dots  & 0      \\\\\n",
    "   0       & K_{x,2} & \\dots  & 0      \\\\\n",
    "   \\vdots  & \\vdots  & \\ddots & \\vdots \\\\\n",
    "   0       & 0       & \\dots  & K_{x,m}\n",
    "\\end{pmatrix}, \n",
    "\\ \\ \\ \n",
    "\\Smtrx = \n",
    "\\begin{pmatrix}\n",
    "S_{1,1} & S_{1,2} & \\dots  & S_{1,n} \\\\\n",
    "S_{2,1} & S_{2,2} & \\dots  & S_{2,n} \\\\\n",
    "\\vdots  & \\vdots  & \\ddots & \\vdots \\\\\n",
    "S_{m,1} & S_{m,2} & \\dots  & S_{m,n}\n",
    "\\end{pmatrix},\n",
    "\\ \\ \\ \n",
    " \\Xmtrx = \n",
    "  \\begin{pmatrix}\n",
    "   x_1 & 0       & \\dots  & 0      \\\\\n",
    "   0       & x_2 & \\dots  & 0      \\\\\n",
    "   \\vdots  & \\vdots  & \\ddots & \\vdots \\\\\n",
    "   0       & 0       & \\dots  & x_n\n",
    "\\end{pmatrix} .\n",
    "%\n",
    "\\end{equation*}"
   ]
  },
  {
   "cell_type": "code",
   "execution_count": 3,
   "metadata": {
    "ExecuteTime": {
     "end_time": "2022-04-06T20:43:33.444357Z",
     "start_time": "2022-04-06T20:43:33.439296Z"
    },
    "code_folding": [
     2
    ]
   },
   "outputs": [],
   "source": [
    "'''Function: Gradient wrt to molar fractions of the equilibrium function'''\n",
    "\n",
    "def grad_x_keq_function(x_vec, keq_cte_vec, stoic_mtrx):\n",
    "    \n",
    "    import numpy as np\n",
    "    \n",
    "    # build the K matrix\n",
    "    k_mtrx = np.diag(keq_cte_vec)\n",
    "    \n",
    "    # correct for division by a very small number (initial null charge; final fully consumed species)\n",
    "    import numpy as np\n",
    "    x_vec_local = np.copy(x_vec)\n",
    "    \n",
    "    max_x = x_vec_local.max()\n",
    "    for i in range(x_vec_local.size):\n",
    "        if x_vec_local[i] < 1e-8:\n",
    "            x_vec_local[i] = max_x # some reasonable mole fraction\n",
    "            \n",
    "    x_vec_inv = 1.0/x_vec_local\n",
    "    x_mtrx_inv = np.diag(x_vec_inv)\n",
    "    \n",
    "    grad_mtrx = - k_mtrx @ stoic_mtrx @ x_mtrx_inv\n",
    "    \n",
    "    return grad_mtrx"
   ]
  },
  {
   "cell_type": "markdown",
   "metadata": {},
   "source": [
    "The molar fraction derivative is\n",
    "\n",
    "\\begin{equation*}\n",
    "\\partial_{\\widehat{\\epsvec}}\\xvec = \\frac{\\Smtrx^\\top - \\xvec\\otimes\\sum_j\\Smtrx_{\\bullet,j} }{1+\\sum_j (\\Smtrx^\\top\\widehat{\\epsvec})_j}\n",
    "\\end{equation*}"
   ]
  },
  {
   "cell_type": "code",
   "execution_count": 4,
   "metadata": {
    "ExecuteTime": {
     "end_time": "2022-04-06T20:43:33.450981Z",
     "start_time": "2022-04-06T20:43:33.447550Z"
    },
    "code_folding": [
     2
    ]
   },
   "outputs": [],
   "source": [
    "'''Function: Derivative of the molar fractions function wrt normalized extent of reaction'''\n",
    "\n",
    "def d_ext_molar_fractions(ext_hat_vec, x_vec, stoic_mtrx):\n",
    "    \n",
    "    a  = 1.0 + (stoic_mtrx.transpose()@ext_hat_vec).sum()\n",
    "    \n",
    "    dext_x_mtrx = (stoic_mtrx.transpose() - np.outer(x_vec, stoic_mtrx.sum(1))) / a\n",
    "    \n",
    "    return dext_x_mtrx"
   ]
  },
  {
   "cell_type": "markdown",
   "metadata": {},
   "source": [
    "## [Algorithm](#toc)<a id=\"algo\"></a>\n",
    "\n",
    "Given $\\Kcalvec\\bigl(\\xvec(\\widehat{\\epsvec})\\bigr)$, find the root\n",
    "\n",
    "\\begin{equation*}\n",
    "\\Kcalvec\\bigl(\\xvec(\\widehat{\\epsvec})\\bigr) = 0 ,\n",
    "\\end{equation*}\n",
    "\n",
    "using an iterative method based on the initial guess $\\widehat{\\epsvec}_0$.\n",
    "Compute the updates\n",
    "\n",
    "\\begin{equation*}\n",
    "d_{\\widehat{\\epsvec}} \\Kcalvec\\bigl(\\xvec(\\widehat{\\epsvec}_{k-1})\\bigr) \\, \\delta \\widehat{\\epsvec}_k = - \\Kcalvec\\bigl(\\xvec(\\widehat{\\epsvec}_{k-1})\\bigr) \n",
    "                                     \\ \\qquad \\  \\forall \\ \\qquad \\ k = 1,\\ldots,k_\\text{max} , \n",
    "\\end{equation*}\n",
    "\n",
    "then compute the approximation to the root (with damping factor $d$ if needed)\n",
    "\n",
    "\\begin{equation*}\n",
    " \\widehat{\\epsvec}_k = \\widehat{\\epsvec}_{k-1} + d\\, \\delta \\widehat{\\epsvec}_k \\ \\qquad \\  \\forall \\ \\qquad\\ \\ k = 1,\\ldots,k_\\text{max} ,\n",
    "\\end{equation*}\n",
    "\n",
    "until convergence, say, $\\norm{\\delta\\widehat{\\epsvec}_k} \\le 10^{-8}$ and $\\norm{\\Kcal\\bigl(\\xvec(\\widehat{\\epsvec}_k)\\bigr)} \\le 10^{-8}$, or no convergence achieved , say $k>k_\\text{max}$. "
   ]
  },
  {
   "cell_type": "code",
   "execution_count": null,
   "metadata": {
    "ExecuteTime": {
     "end_time": "2022-04-06T20:43:33.472397Z",
     "start_time": "2022-04-06T20:43:33.455775Z"
    },
    "code_folding": []
   },
   "outputs": [],
   "source": [
    "'''Function: Newton's method'''\n",
    "\n",
    "def newton_solve(x_vec_0, keq_cte_vec, stoic_mtrx,\n",
    "                 ext_hat_vec_0=None, k_max=30, tolerance=1.0e-10, verbose=True):\n",
    "    \n",
    "    try:\n",
    "        from chen_3170.toolkit import solve\n",
    "    except ModuleNotFoundError:\n",
    "        assert False, 'You need to provide your own solve function here. Bailing out.'\n",
    "        \n",
    "    try:    \n",
    "        from chen_3170.toolkit import shortest_least_squares_solve\n",
    "    except ModuleNotFoundError:\n",
    "        assert False, 'You need to provide your own lu_factorization function here. Bailing out.'\n",
    "        \n",
    "    try:    \n",
    "        from chen_3170.toolkit import matrix_rank    \n",
    "    except ModuleNotFoundError:\n",
    "        assert False, 'You need to provide your own matrix_rank function here. Bailing out.'\n",
    "    \n",
    "    import numpy as np\n",
    "    \n",
    "    if ext_hat_vec_0 is None:\n",
    "        ext_hat_vec_0 = np.zeros(keq_cte_vec.size,dtype=np.float64)\n",
    "    \n",
    "    # Other initialization\n",
    "    delta_vec_k = 1e+10 * np.ones(ext_hat_vec_0.size,dtype=np.float64)\n",
    "    keq_vec_k   = 1e+10 * np.ones(ext_hat_vec_0.size,dtype=np.float64) # equilibrium function initial value\n",
    "    ext_hat_vec = np.copy(ext_hat_vec_0)\n",
    "    rank = 'full'\n",
    "\n",
    "    if verbose is True:\n",
    "        print('\\n')\n",
    "        print('*********************************************************************')\n",
    "        print(\"               Newton's Method Iterations                            \")\n",
    "        print('*********************************************************************')\n",
    "        print(\"k | |K(e_k)|  | |K'(e_k)| | |del e_k| |   |e_k|   |convg|damped|rank|\")\n",
    "        print('---------------------------------------------------------------------')\n",
    "\n",
    "    import math\n",
    "    k = 0\n",
    "    \n",
    "    while (np.linalg.norm(delta_vec_k) > tolerance or np.linalg.norm(keq_vec_k) > tolerance) and k <= k_max:\n",
    "        \n",
    "        # compute the molar fractions\n",
    "        x_vec = molar_fractions(ext_hat_vec, x_vec_0, stoic_mtrx) \n",
    "        \n",
    "        # compute the equilibrium function\n",
    "        keq_vec_k = keq_function(x_vec, keq_cte_vec, stoic_mtrx)\n",
    "        \n",
    "        # compute the molar fraction gradient of the equilibrium function\n",
    "        grad_x_k = grad_x_keq_function(x_vec, keq_cte_vec, stoic_mtrx)\n",
    "        \n",
    "        # compute the extent of reaction derivative of the molar fraction\n",
    "        #old d_ext_x = d_ext_molar_fractions(ext_hat_vec, x_vec_0, stoic_mtrx)\n",
    "        d_ext_x = d_ext_molar_fractions(ext_hat_vec, x_vec, stoic_mtrx)\n",
    "        \n",
    "        # form the total derivative of the equilibrium function wrt the extent of reaction\n",
    "        d_ext_keq_k = grad_x_k @ d_ext_x # Jacobian matrix\n",
    "        \n",
    "        # compute the Newton update    \n",
    "        delta_vec_k_old = delta_vec_k # save the old update for convergence monitoring\n",
    "        \n",
    "        j_mtrx = d_ext_keq_k # alias for the Jacobiam matrix\n",
    "        \n",
    "        b_vec  = - keq_vec_k # alias for the RHS vector\n",
    "        \n",
    "        # sanity check\n",
    "        assert j_mtrx.shape[0] == j_mtrx.shape[1]\n",
    "        \n",
    "        # full rank option\n",
    "        if matrix_rank(j_mtrx) == min(j_mtrx.shape):\n",
    "            delta_vec_k = solve(j_mtrx, b_vec, pivoting_option='partial')\n",
    "            rank = 'full'\n",
    "        # rank deficient option\n",
    "        else:         \n",
    "            delta_vec_k = shortest_least_squares_solve(j_mtrx, b_vec, epsilon_min=-5, pivot_tol=1e-5, zero_tol=1e-5)\n",
    "            rank = 'defi'\n",
    "\n",
    "        # Damped step: make sure iterates are monotonically converging to root\n",
    "        damp_counter_max = 3\n",
    "        damp_counter = 0\n",
    "        damp_factor = 1.0\n",
    "        \n",
    "        keq_vec_k_old = keq_vec_k\n",
    "        x_vec = molar_fractions(ext_hat_vec + delta_vec_k, x_vec_0, stoic_mtrx)\n",
    "        keq_vec_k = keq_function(x_vec, keq_cte_vec, stoic_mtrx)\n",
    "        \n",
    "        while np.linalg.norm(keq_vec_k) > np.linalg.norm(keq_vec_k_old) and damp_counter < damp_counter_max:\n",
    "            damp_factor *= 0.5\n",
    "            x_vec = molar_fractions(ext_hat_vec + damp_factor * delta_vec_k, x_vec_0, stoic_mtrx)\n",
    "            keq_vec_k = keq_function(x_vec, keq_cte_vec, stoic_mtrx)\n",
    "            damp_counter += 1\n",
    "        \n",
    "        # compute the update to the root candidate\n",
    "        ext_hat_vec += damp_factor * delta_vec_k\n",
    "        \n",
    "        if k > 0:\n",
    "            if np.linalg.norm(delta_vec_k) != 0.0 and np.linalg.norm(delta_vec_k_old) != 0.0:\n",
    "                convergence_factor = math.log(np.linalg.norm(delta_vec_k),10) / math.log(np.linalg.norm(delta_vec_k_old),10)\n",
    "            else:\n",
    "                convergence_factor = 0.0  \n",
    "        else:\n",
    "            convergence_factor = 0.0\n",
    "            \n",
    "        k = k + 1\n",
    "        \n",
    "        if verbose is True:\n",
    "            print('%2i %+11.3e %+11.3e %+11.3e %+11.3e %4.2f %6i %5s'%\\\n",
    "                  (k, np.linalg.norm(keq_vec_k), np.linalg.norm(d_ext_keq_k), np.linalg.norm(delta_vec_k), \n",
    "                   np.linalg.norm(ext_hat_vec), convergence_factor, damp_counter, rank))\n",
    "\n",
    "    if verbose is True:\n",
    "        print('****************************************************************') \n",
    "    print('Root = ',[round(r,4) for r in ext_hat_vec])\n",
    "    \n",
    "    return (ext_hat_vec, keq_vec_k, delta_vec_k)"
   ]
  },
  {
   "cell_type": "code",
   "execution_count": null,
   "metadata": {
    "ExecuteTime": {
     "end_time": "2022-04-06T20:43:34.852418Z",
     "start_time": "2022-04-06T20:43:34.836279Z"
    },
    "code_folding": [
     2
    ]
   },
   "outputs": [],
   "source": [
    "'''Function: plot equilibrium function'''\n",
    "\n",
    "def plot_keq_function(ext_hat_vec_min, ext_hat_vec_max, num_pts,\n",
    "                       x_vec_0, keq_cte_vec, stoic_mtrx,\n",
    "                       ext_hat_vec_root=None, hide=False):\n",
    "    \n",
    "    import matplotlib.pyplot as plt\n",
    "    %matplotlib inline\n",
    "    plt.rcParams['figure.figsize'] = [12, 30]\n",
    "    \n",
    "    # number of functions to be plotted\n",
    "    num_keq_functions = keq_cte_vec.size\n",
    "    \n",
    "    import numpy as np\n",
    "    \n",
    "    # allocate a matrix for all ext_hat_vec plot points (min to max)\n",
    "    ext_hat_plot_pts = np.zeros((num_pts, num_keq_functions))\n",
    "    \n",
    "    # create all plot points for ext_hat_vec\n",
    "    for i in range(num_keq_functions):\n",
    "        ext_hat_plot_pts[:,i] = np.linspace(ext_hat_vec_min[i], ext_hat_vec_max[i], num_pts)\n",
    "    \n",
    "    # allocate a matrix for all keq_function_vec plot points\n",
    "    keq_function_plot_values = np.zeros((num_pts, num_keq_functions))\n",
    "    \n",
    "    # create all plot points for keq_function \n",
    "    for k in range(num_pts):\n",
    "        x_vec = molar_fractions(ext_hat_plot_pts[k,:], x_vec_0, stoic_mtrx) \n",
    "        keq_function_plot_values[k,:] = keq_function(x_vec, keq_cte_vec, stoic_mtrx)\n",
    "    \n",
    "    # Plot keq_function_vec in subplots\n",
    "    n_rows = num_keq_functions\n",
    "    n_columns = 1\n",
    "    # create colors for each equilibrium function\n",
    "    color_ids = np.linspace(0, 1, num_keq_functions)\n",
    "    \n",
    "    for (iplot, color_id) in zip(range(n_rows), color_ids):\n",
    "        plt.subplot(n_rows,n_columns, iplot+1)\n",
    "        #color = plt.cm.nipy_spectral(color_id)\n",
    "        color = plt.cm.cool(color_id)\n",
    "        plt.plot(ext_hat_plot_pts[:,iplot], keq_function_plot_values[:,iplot],\n",
    "                 color=color,label='$K_{x,%i}=$%8.2e'%(iplot, keq_cte_vec[iplot]))\n",
    "    \n",
    "        plt.xlabel(r'$\\hat{\\varepsilon}_{%i}$'%iplot,fontsize=18)\n",
    "        plt.ylabel(r'$K_{%i}(\\hat{\\varepsilon})$'%iplot,fontsize=18)\n",
    "        plt.title(reactions[iplot],fontsize=20)\n",
    "        plt.legend(loc='best',fontsize=12)\n",
    "        if hide:\n",
    "            plt.xticks([], fontsize=16)\n",
    "            plt.yticks([], fontsize=16)\n",
    "        else:\n",
    "            plt.xticks(fontsize=16)\n",
    "            plt.yticks(fontsize=16)\n",
    "    \n",
    "        (x_min,x_max) = plt.xlim()\n",
    "        dx = abs(x_max-x_min)\n",
    "        x_text = x_max+dx*1/100\n",
    "    \n",
    "        (y_min,y_max) = plt.ylim()\n",
    "        dy = abs(y_max-y_min)\n",
    "        y_text = y_max - dy*0.1\n",
    "    \n",
    "        for x,spc in zip(x_vec_0,species):\n",
    "            plt.text(x_text, y_text, r'$x_{%s}^{(0)}=$%8.2e'%(spc,x),fontsize=16)\n",
    "            y_text -= dy*0.11\n",
    "    \n",
    "        if ext_hat_vec_root is not None:\n",
    "            \n",
    "            e_root = ext_hat_vec_root[iplot]\n",
    "            plt.plot(e_root, 0.0,'r*',label='root',markersize=14)\n",
    "               \n",
    "            (x_min,x_max) = plt.xlim()\n",
    "            dx = abs(x_max-x_min)\n",
    "            x_text = e_root - dx*0.15\n",
    "    \n",
    "            (y_min,y_max) = plt.ylim()\n",
    "            dy = abs(y_max-y_min)\n",
    "            y_text = 0.0 + dy*0.05\n",
    "            \n",
    "            if hide:\n",
    "                plt.text(x_text, y_text, r'$\\hat{\\varepsilon}^*=$?', fontsize=16)\n",
    "            else:\n",
    "                plt.text(x_text, y_text, r'$\\hat{\\varepsilon}^*=$%8.2e'%e_root, fontsize=16)\n",
    "       \n",
    "        plt.grid(True)\n",
    "        plt.show()\n",
    "        print('')\n",
    "    \n",
    "    return"
   ]
  },
  {
   "cell_type": "markdown",
   "metadata": {},
   "source": [
    "## [Input Data](#toc)<a id=\"idata\"></a>\n",
    "\n",
    "Using the ammonia oxidation reaction mechanism from the input file: `data/ammonia-rxn.txt` "
   ]
  },
  {
   "cell_type": "code",
   "execution_count": null,
   "metadata": {
    "ExecuteTime": {
     "end_time": "2022-04-06T20:43:33.620090Z",
     "start_time": "2022-04-06T20:43:33.475108Z"
    },
    "scrolled": false
   },
   "outputs": [],
   "source": [
    "!cat data/ammonia-rxn.txt"
   ]
  },
  {
   "cell_type": "code",
   "execution_count": null,
   "metadata": {
    "ExecuteTime": {
     "end_time": "2022-04-06T20:43:34.659531Z",
     "start_time": "2022-04-06T20:43:33.622443Z"
    }
   },
   "outputs": [],
   "source": [
    "'''Import the ammonia reaction mechanism'''\n",
    "\n",
    "try:    \n",
    "    from chen_3170.toolkit import reaction_mechanism   \n",
    "except ModuleNotFoundError:\n",
    "    assert False, 'You need to provide your own reaction_mechanism function here. Bailing out.'\n",
    "    \n",
    "# read species, reactions, equilibrium constants and build the stoichiometric matrix\n",
    "(species, reactions, stoic_mtrx, rxn_mech) = reaction_mechanism('data/ammonia-rxn.txt')"
   ]
  },
  {
   "cell_type": "code",
   "execution_count": null,
   "metadata": {
    "ExecuteTime": {
     "end_time": "2022-04-06T20:43:34.809024Z",
     "start_time": "2022-04-06T20:43:34.662568Z"
    }
   },
   "outputs": [],
   "source": [
    "'''Info on the data'''\n",
    "\n",
    "import numpy as np\n",
    "np.set_printoptions(precision=3,threshold=100,edgeitems=5)\n",
    "\n",
    "print('species=',species)\n",
    "\n",
    "from chen_3170.help import print_reactions\n",
    "print('')\n",
    "print_reactions(reactions) \n",
    "print('')\n",
    "\n",
    "keq_cte_vec = np.array([d['K_x'] for d in rxn_mech.data])\n",
    "print('K_x eq = ',keq_cte_vec)\n",
    "print('')\n",
    "\n",
    "from chen_3170.help import plot_matrix\n",
    "plot_matrix(stoic_mtrx, title='Stoichiometric Matrix', xlabels=species, ylabels=reactions)\n",
    "print('')\n",
    "np.set_printoptions(precision=3,threshold=100,edgeitems=5)\n",
    "print('stoic_mtrx=\\n',stoic_mtrx)\n",
    "print('')\n",
    "print('Rank Analysis:')\n",
    "rxn_mech.rank_analysis(verbose=True)\n",
    "print('')\n",
    "print('Mass conservation:', rxn_mech.is_mass_conserved())"
   ]
  },
  {
   "cell_type": "markdown",
   "metadata": {},
   "source": [
    "The following reference molar fraction $\\xvec^{(0)}$ is given:\n",
    "\n",
    "  Reference Molar Fraction    | Parameter    | Value |\n",
    "------------------------------|--------------|-------|\n",
    " NO  | $x_{NO}$     | 0.1   |\n",
    " N2  | $x_{N2}$     | 0.1   |\n",
    " NO2 | $x_{NO2}$    | 0.0   |\n",
    " O2  | $x_{O2}$     | 0.3   |\n",
    " H2O | $x_{H2O}$    | 0.0   |\n",
    " NH3 | $x_{NH3}$    | 0.5   |"
   ]
  },
  {
   "cell_type": "code",
   "execution_count": null,
   "metadata": {
    "ExecuteTime": {
     "end_time": "2022-04-06T20:43:34.814642Z",
     "start_time": "2022-04-06T20:43:34.810278Z"
    }
   },
   "outputs": [],
   "source": [
    "'''Set reference molar fraction'''\n",
    "\n",
    "import numpy as np\n",
    "x_dict_0 = {'NO':0.1,'N2':0.1,'NO2':0.0,'O2':0.3,'H2O':0.0,'NH3':0.5}\n",
    "#x_dict_0 = {'NO':0.1,'N2':0.1,'NO2':0.0,'O2':0.4,'H2O':0.0,'NH3':0.4}\n",
    "\n",
    "x_vec_0 = np.zeros(len(species),dtype=np.float64)\n",
    "for i in range(len(species)):\n",
    "    x_vec_0[i] = x_dict_0[species[i]]\n",
    "    \n",
    "# Consistency check\n",
    "assert abs(np.sum(x_vec_0) - 1.0) <= 1e-12,'sum = %r'%(np.sum(x_vec_0))\n",
    "assert np.all(x_vec_0 >=0.0)"
   ]
  },
  {
   "cell_type": "markdown",
   "metadata": {},
   "source": [
    "Guessed bounds on the extent of reactions, $\\widehat{\\varepsilon}_i, i=1,\\ldots,m$. For product species:\n",
    "\n",
    "\\begin{equation*}\n",
    "  \\widehat{\\varepsilon}_i \\ge \\max\\Bigl(\\frac{- x_j^{(0)}}{\\abs{S^\\top_{j,i}}}\\Bigr) \\ \\quad\\quad \\forall \\ \\quad\\quad j \\ \\quad \\mid S^\\top_{j,i} > 0.\n",
    "\\end{equation*}\n",
    "\n",
    "For reactant species:\n",
    "\n",
    "\\begin{equation*}\n",
    "  \\widehat{\\varepsilon}_i \\le \\min\\Bigl(\\frac{x_j^{(0)}}{\\abs{S^\\top_{j,i}}}\\Bigr) \\ \\quad\\quad \\forall \\ \\quad\\quad j \\ \\quad \\mid S^\\top_{j,i} < 0.\n",
    "\\end{equation*}"
   ]
  },
  {
   "cell_type": "code",
   "execution_count": null,
   "metadata": {
    "ExecuteTime": {
     "end_time": "2022-04-06T20:43:34.825346Z",
     "start_time": "2022-04-06T20:43:34.817416Z"
    },
    "code_folding": [
     2
    ]
   },
   "outputs": [],
   "source": [
    "'''Bounds on extents of reaction'''\n",
    "\n",
    "def bounds_epsilon_hat(x_vec_0, stoic_mtrx):\n",
    "    \n",
    "    ext_hat_vec_min = np.zeros(stoic_mtrx.shape[0], dtype=np.float64)\n",
    "    ext_hat_vec_max = np.zeros(stoic_mtrx.shape[0], dtype=np.float64)\n",
    "\n",
    "    for (i, reaction) in enumerate(reactions):\n",
    "\n",
    "        (ids,) = np.where(stoic_mtrx[i,:]>0) # products\n",
    "        ext_hat_min = np.max(-x_vec_0[ids]/np.abs(stoic_mtrx[i,ids]))\n",
    "\n",
    "        (ids,) = np.where(stoic_mtrx[i,:]<0) # reactants\n",
    "        ext_hat_max = np.min( x_vec_0[ids]/np.abs(stoic_mtrx[i,ids]))\n",
    "\n",
    "        # reduce the ends of the interval by 0.5% to avoid infinite values in the equilibrium function\n",
    "        dext = (ext_hat_max - ext_hat_min)*.05\n",
    "        ext_hat_min += dext\n",
    "        ext_hat_max -= dext\n",
    "    \n",
    "        ext_hat_vec_min[i] = ext_hat_min\n",
    "        ext_hat_vec_max[i] = ext_hat_max\n",
    "\n",
    "    return (ext_hat_vec_min, ext_hat_vec_max)"
   ]
  },
  {
   "cell_type": "code",
   "execution_count": null,
   "metadata": {
    "ExecuteTime": {
     "end_time": "2022-04-06T20:43:34.825346Z",
     "start_time": "2022-04-06T20:43:34.817416Z"
    }
   },
   "outputs": [],
   "source": [
    "'''Bounds on extents of reaction'''\n",
    "\n",
    "(ext_hat_vec_min, ext_hat_vec_max) = bounds_epsilon_hat(x_vec_0, stoic_mtrx)\n",
    "\n",
    "np.set_printoptions(precision=2,threshold=100,edgeitems=5)\n",
    "print('ext_hat_min = ',ext_hat_vec_min)\n",
    "print('ext_hat_max = ',ext_hat_vec_max)"
   ]
  },
  {
   "cell_type": "markdown",
   "metadata": {},
   "source": [
    "## [Plot Equilibrium Vector Function](#toc)<a id=\"eqfunc\"></a>\n",
    "\n",
    "Plot equilibrium vector function for the reaction mechanism. "
   ]
  },
  {
   "cell_type": "code",
   "execution_count": null,
   "metadata": {
    "ExecuteTime": {
     "end_time": "2022-04-06T20:43:37.140065Z",
     "start_time": "2022-04-06T20:43:34.854547Z"
    },
    "code_folding": [],
    "scrolled": false
   },
   "outputs": [],
   "source": [
    "'''Plot equilibrium vector function'''\n",
    "\n",
    "n_pts = 200\n",
    "\n",
    "plot_keq_function(ext_hat_vec_min, ext_hat_vec_max, n_pts, \n",
    "                  x_vec_0, keq_cte_vec, stoic_mtrx)"
   ]
  },
  {
   "cell_type": "markdown",
   "metadata": {},
   "source": [
    "## [Solve for Equilibrium](#toc)<a id=\"solve\"></a> "
   ]
  },
  {
   "cell_type": "code",
   "execution_count": null,
   "metadata": {
    "ExecuteTime": {
     "end_time": "2022-04-06T20:43:37.200542Z",
     "start_time": "2022-04-06T20:43:37.144133Z"
    },
    "code_folding": [
     7
    ],
    "scrolled": false
   },
   "outputs": [],
   "source": [
    "'''Find root'''\n",
    "\n",
    "ext_hat_vec_0 = (ext_hat_vec_min + ext_hat_vec_max)/3.5\n",
    "\n",
    "k_max = 20\n",
    "tolerance = 5.0e-5\n",
    "\n",
    "(ext_hat_vec, keq_vec, delta_vec) = newton_solve(x_vec_0, keq_cte_vec, stoic_mtrx,\n",
    "                                                 ext_hat_vec_0, k_max, tolerance)"
   ]
  },
  {
   "cell_type": "code",
   "execution_count": null,
   "metadata": {},
   "outputs": [],
   "source": [
    "'''Deeper insight'''\n",
    "keq_vec"
   ]
  },
  {
   "cell_type": "code",
   "execution_count": null,
   "metadata": {},
   "outputs": [],
   "source": [
    "'''Deeper insight'''\n",
    "delta_vec"
   ]
  },
  {
   "cell_type": "code",
   "execution_count": null,
   "metadata": {
    "ExecuteTime": {
     "end_time": "2022-04-06T20:43:37.206890Z",
     "start_time": "2022-04-06T20:43:37.202111Z"
    },
    "scrolled": false
   },
   "outputs": [],
   "source": [
    "'''Compute equilibrium molar fractions'''\n",
    "\n",
    "x_vec = molar_fractions(ext_hat_vec, x_vec_0, stoic_mtrx)\n",
    "\n",
    "print('')\n",
    "print('Equilibrium mole fractions:\\n')\n",
    "for (x,spc) in zip(x_vec,species):\n",
    "    print('%5s = %5.3e (%4.1f%%)'%(spc,x,round(x*100,1)))\n",
    "\n",
    "# Sanity check\n",
    "assert np.all(x_vec >= 0.0)\n",
    "assert abs(x_vec.sum() - 1.0) <= 1e-10"
   ]
  },
  {
   "cell_type": "markdown",
   "metadata": {},
   "source": [
    "\n",
    "## [Plot Equilibrium Point](#toc)<a id=\"eqpt\"></a> "
   ]
  },
  {
   "cell_type": "code",
   "execution_count": null,
   "metadata": {
    "ExecuteTime": {
     "end_time": "2022-04-06T20:43:39.314162Z",
     "start_time": "2022-04-06T20:43:37.208768Z"
    },
    "scrolled": false
   },
   "outputs": [],
   "source": [
    "'''Plot equilibrium vector function'''\n",
    "\n",
    "n_pts = 100\n",
    "\n",
    "plot_keq_function(ext_hat_vec_min, ext_hat_vec, n_pts, \n",
    "                  x_vec_0, keq_cte_vec, stoic_mtrx, ext_hat_vec)"
   ]
  },
  {
   "cell_type": "code",
   "execution_count": null,
   "metadata": {},
   "outputs": [],
   "source": []
  }
 ],
 "metadata": {
  "kernelspec": {
   "display_name": "Python 3 (ipykernel)",
   "language": "python",
   "name": "python3"
  },
  "language_info": {
   "codemirror_mode": {
    "name": "ipython",
    "version": 3
   },
   "file_extension": ".py",
   "mimetype": "text/x-python",
   "name": "python",
   "nbconvert_exporter": "python",
   "pygments_lexer": "ipython3",
   "version": "3.11.8"
  },
  "latex_envs": {
   "LaTeX_envs_menu_present": true,
   "autoclose": false,
   "autocomplete": true,
   "bibliofile": "biblio.bib",
   "cite_by": "apalike",
   "current_citInitial": 1,
   "eqLabelWithNumbers": true,
   "eqNumInitial": 1,
   "hotkeys": {
    "equation": "Ctrl-E",
    "itemize": "Ctrl-I"
   },
   "labels_anchors": false,
   "latex_user_defs": false,
   "report_style_numbering": false,
   "user_envs_cfg": false
  }
 },
 "nbformat": 4,
 "nbformat_minor": 2
}
